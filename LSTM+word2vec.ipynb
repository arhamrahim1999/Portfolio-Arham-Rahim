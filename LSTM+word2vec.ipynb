{
  "nbformat": 4,
  "nbformat_minor": 0,
  "metadata": {
    "colab": {
      "provenance": []
    },
    "kernelspec": {
      "name": "python3",
      "display_name": "Python 3"
    },
    "language_info": {
      "name": "python"
    }
  },
  "cells": [
    {
      "cell_type": "code",
      "execution_count": null,
      "metadata": {
        "colab": {
          "base_uri": "https://localhost:8080/"
        },
        "id": "EI2IP5rS9v3U",
        "outputId": "881c68c6-1a17-48b0-eb33-97791940db33"
      },
      "outputs": [
        {
          "output_type": "stream",
          "name": "stderr",
          "text": [
            "[nltk_data] Downloading package stopwords to /root/nltk_data...\n",
            "[nltk_data]   Unzipping corpora/stopwords.zip.\n",
            "[nltk_data] Downloading package punkt to /root/nltk_data...\n",
            "[nltk_data]   Unzipping tokenizers/punkt.zip.\n"
          ]
        }
      ],
      "source": [
        "import nltk\n",
        "from nltk.corpus import stopwords\n",
        "import spacy\n",
        "import string\n",
        "import pandas as pd\n",
        "from sklearn.model_selection import train_test_split\n",
        "from sklearn.pipeline import Pipeline\n",
        "from sklearn.base import BaseEstimator, TransformerMixin\n",
        "import re\n",
        "from sklearn.model_selection import train_test_split\n",
        "from sklearn.metrics import classification_report\n",
        "from sklearn.preprocessing import LabelEncoder\n",
        "from imblearn.over_sampling import SMOTE\n",
        "from keras.preprocessing.text import Tokenizer\n",
        "from keras.preprocessing.sequence import pad_sequences\n",
        "from keras.models import Model\n",
        "from keras.layers import Input, Embedding, LSTM, Dense, Dropout\n",
        "from keras.utils import to_categorical\n",
        "from gensim.models import Word2Vec\n",
        "import numpy as np\n",
        "\n",
        "# Download the stopwords from NLTK\n",
        "nltk.download('stopwords')\n",
        "nltk.download('punkt')\n",
        "\n",
        "# Load the spaCy model for NER and POS tagging\n",
        "nlp = spacy.load('en_core_web_sm')"
      ]
    },
    {
      "cell_type": "code",
      "source": [
        "# Upload datasets\n",
        "from google.colab import files\n",
        "\n",
        "# Prompt to upload the unzipped file\n",
        "uploaded = files.upload()\n"
      ],
      "metadata": {
        "colab": {
          "base_uri": "https://localhost:8080/",
          "height": 108
        },
        "id": "rN169wlB950o",
        "outputId": "fb557906-d587-4a81-f943-f0b5dcec84f6"
      },
      "execution_count": null,
      "outputs": [
        {
          "output_type": "display_data",
          "data": {
            "text/plain": [
              "<IPython.core.display.HTML object>"
            ],
            "text/html": [
              "\n",
              "     <input type=\"file\" id=\"files-4d4a3fda-5d5e-4eb1-98a1-abd6926bae89\" name=\"files[]\" multiple disabled\n",
              "        style=\"border:none\" />\n",
              "     <output id=\"result-4d4a3fda-5d5e-4eb1-98a1-abd6926bae89\">\n",
              "      Upload widget is only available when the cell has been executed in the\n",
              "      current browser session. Please rerun this cell to enable.\n",
              "      </output>\n",
              "      <script>// Copyright 2017 Google LLC\n",
              "//\n",
              "// Licensed under the Apache License, Version 2.0 (the \"License\");\n",
              "// you may not use this file except in compliance with the License.\n",
              "// You may obtain a copy of the License at\n",
              "//\n",
              "//      http://www.apache.org/licenses/LICENSE-2.0\n",
              "//\n",
              "// Unless required by applicable law or agreed to in writing, software\n",
              "// distributed under the License is distributed on an \"AS IS\" BASIS,\n",
              "// WITHOUT WARRANTIES OR CONDITIONS OF ANY KIND, either express or implied.\n",
              "// See the License for the specific language governing permissions and\n",
              "// limitations under the License.\n",
              "\n",
              "/**\n",
              " * @fileoverview Helpers for google.colab Python module.\n",
              " */\n",
              "(function(scope) {\n",
              "function span(text, styleAttributes = {}) {\n",
              "  const element = document.createElement('span');\n",
              "  element.textContent = text;\n",
              "  for (const key of Object.keys(styleAttributes)) {\n",
              "    element.style[key] = styleAttributes[key];\n",
              "  }\n",
              "  return element;\n",
              "}\n",
              "\n",
              "// Max number of bytes which will be uploaded at a time.\n",
              "const MAX_PAYLOAD_SIZE = 100 * 1024;\n",
              "\n",
              "function _uploadFiles(inputId, outputId) {\n",
              "  const steps = uploadFilesStep(inputId, outputId);\n",
              "  const outputElement = document.getElementById(outputId);\n",
              "  // Cache steps on the outputElement to make it available for the next call\n",
              "  // to uploadFilesContinue from Python.\n",
              "  outputElement.steps = steps;\n",
              "\n",
              "  return _uploadFilesContinue(outputId);\n",
              "}\n",
              "\n",
              "// This is roughly an async generator (not supported in the browser yet),\n",
              "// where there are multiple asynchronous steps and the Python side is going\n",
              "// to poll for completion of each step.\n",
              "// This uses a Promise to block the python side on completion of each step,\n",
              "// then passes the result of the previous step as the input to the next step.\n",
              "function _uploadFilesContinue(outputId) {\n",
              "  const outputElement = document.getElementById(outputId);\n",
              "  const steps = outputElement.steps;\n",
              "\n",
              "  const next = steps.next(outputElement.lastPromiseValue);\n",
              "  return Promise.resolve(next.value.promise).then((value) => {\n",
              "    // Cache the last promise value to make it available to the next\n",
              "    // step of the generator.\n",
              "    outputElement.lastPromiseValue = value;\n",
              "    return next.value.response;\n",
              "  });\n",
              "}\n",
              "\n",
              "/**\n",
              " * Generator function which is called between each async step of the upload\n",
              " * process.\n",
              " * @param {string} inputId Element ID of the input file picker element.\n",
              " * @param {string} outputId Element ID of the output display.\n",
              " * @return {!Iterable<!Object>} Iterable of next steps.\n",
              " */\n",
              "function* uploadFilesStep(inputId, outputId) {\n",
              "  const inputElement = document.getElementById(inputId);\n",
              "  inputElement.disabled = false;\n",
              "\n",
              "  const outputElement = document.getElementById(outputId);\n",
              "  outputElement.innerHTML = '';\n",
              "\n",
              "  const pickedPromise = new Promise((resolve) => {\n",
              "    inputElement.addEventListener('change', (e) => {\n",
              "      resolve(e.target.files);\n",
              "    });\n",
              "  });\n",
              "\n",
              "  const cancel = document.createElement('button');\n",
              "  inputElement.parentElement.appendChild(cancel);\n",
              "  cancel.textContent = 'Cancel upload';\n",
              "  const cancelPromise = new Promise((resolve) => {\n",
              "    cancel.onclick = () => {\n",
              "      resolve(null);\n",
              "    };\n",
              "  });\n",
              "\n",
              "  // Wait for the user to pick the files.\n",
              "  const files = yield {\n",
              "    promise: Promise.race([pickedPromise, cancelPromise]),\n",
              "    response: {\n",
              "      action: 'starting',\n",
              "    }\n",
              "  };\n",
              "\n",
              "  cancel.remove();\n",
              "\n",
              "  // Disable the input element since further picks are not allowed.\n",
              "  inputElement.disabled = true;\n",
              "\n",
              "  if (!files) {\n",
              "    return {\n",
              "      response: {\n",
              "        action: 'complete',\n",
              "      }\n",
              "    };\n",
              "  }\n",
              "\n",
              "  for (const file of files) {\n",
              "    const li = document.createElement('li');\n",
              "    li.append(span(file.name, {fontWeight: 'bold'}));\n",
              "    li.append(span(\n",
              "        `(${file.type || 'n/a'}) - ${file.size} bytes, ` +\n",
              "        `last modified: ${\n",
              "            file.lastModifiedDate ? file.lastModifiedDate.toLocaleDateString() :\n",
              "                                    'n/a'} - `));\n",
              "    const percent = span('0% done');\n",
              "    li.appendChild(percent);\n",
              "\n",
              "    outputElement.appendChild(li);\n",
              "\n",
              "    const fileDataPromise = new Promise((resolve) => {\n",
              "      const reader = new FileReader();\n",
              "      reader.onload = (e) => {\n",
              "        resolve(e.target.result);\n",
              "      };\n",
              "      reader.readAsArrayBuffer(file);\n",
              "    });\n",
              "    // Wait for the data to be ready.\n",
              "    let fileData = yield {\n",
              "      promise: fileDataPromise,\n",
              "      response: {\n",
              "        action: 'continue',\n",
              "      }\n",
              "    };\n",
              "\n",
              "    // Use a chunked sending to avoid message size limits. See b/62115660.\n",
              "    let position = 0;\n",
              "    do {\n",
              "      const length = Math.min(fileData.byteLength - position, MAX_PAYLOAD_SIZE);\n",
              "      const chunk = new Uint8Array(fileData, position, length);\n",
              "      position += length;\n",
              "\n",
              "      const base64 = btoa(String.fromCharCode.apply(null, chunk));\n",
              "      yield {\n",
              "        response: {\n",
              "          action: 'append',\n",
              "          file: file.name,\n",
              "          data: base64,\n",
              "        },\n",
              "      };\n",
              "\n",
              "      let percentDone = fileData.byteLength === 0 ?\n",
              "          100 :\n",
              "          Math.round((position / fileData.byteLength) * 100);\n",
              "      percent.textContent = `${percentDone}% done`;\n",
              "\n",
              "    } while (position < fileData.byteLength);\n",
              "  }\n",
              "\n",
              "  // All done.\n",
              "  yield {\n",
              "    response: {\n",
              "      action: 'complete',\n",
              "    }\n",
              "  };\n",
              "}\n",
              "\n",
              "scope.google = scope.google || {};\n",
              "scope.google.colab = scope.google.colab || {};\n",
              "scope.google.colab._files = {\n",
              "  _uploadFiles,\n",
              "  _uploadFilesContinue,\n",
              "};\n",
              "})(self);\n",
              "</script> "
            ]
          },
          "metadata": {}
        },
        {
          "output_type": "stream",
          "name": "stdout",
          "text": [
            "Saving propaganda_train.tsv to propaganda_train.tsv\n",
            "Saving propaganda_val.tsv to propaganda_val.tsv\n"
          ]
        }
      ]
    },
    {
      "cell_type": "code",
      "source": [
        "# Load the training data\n",
        "train_data = pd.read_csv('propaganda_train.tsv', sep='\\t', header=None, names=['label', 'sentence'])\n",
        "\n",
        "# Load the testing data\n",
        "test_data = pd.read_csv('propaganda_val.tsv', sep='\\t', header=None, names=['label', 'sentence'])\n",
        "\n",
        "# Remove the first row of both training and testing data\n",
        "train_data = train_data.drop(0).reset_index(drop=True)\n",
        "test_data = test_data.drop(0).reset_index(drop=True)\n",
        "\n",
        "# Display the first few rows of the training data\n",
        "print(\"Training Data:\")\n",
        "print(train_data.head(10))\n",
        "\n",
        "# Display the first few rows of the testing data\n",
        "print(\"\\nTesting Data:\")\n",
        "print(test_data.head(10))"
      ],
      "metadata": {
        "colab": {
          "base_uri": "https://localhost:8080/"
        },
        "id": "_lY6CC1T-oXT",
        "outputId": "965f9852-9fa0-41bc-e912-1c5e190ab9e0"
      },
      "execution_count": null,
      "outputs": [
        {
          "output_type": "stream",
          "name": "stdout",
          "text": [
            "Training Data:\n",
            "             label                                           sentence\n",
            "0   not_propaganda         No, <BOS> he <EOS> will not be confirmed. \n",
            "1   not_propaganda  This declassification effort <BOS> won’t make ...\n",
            "2      flag_waving  The Obama administration misled the <BOS> Amer...\n",
            "3   not_propaganda  “It looks like we’re capturing the demise of t...\n",
            "4   not_propaganda           <BOS> Location: Westerville, Ohio <EOS> \n",
            "5  loaded_language  Hitler <BOS> annihilated <EOS> 400,000 Germans...\n",
            "6   not_propaganda  A federal judge on Monday ordered U.S. immigra...\n",
            "7   not_propaganda  <BOS> Kirstjen Nielsen (@SecNielsen) <EOS> Nov...\n",
            "8            doubt  As noted above, at this point literally every ...\n",
            "9   not_propaganda  Britain doesn't need more hate even just for a...\n",
            "\n",
            "Testing Data:\n",
            "                       label  \\\n",
            "0             not_propaganda   \n",
            "1  causal_oversimplification   \n",
            "2   appeal_to_fear_prejudice   \n",
            "3             not_propaganda   \n",
            "4                 repetition   \n",
            "5      name_calling,labeling   \n",
            "6            loaded_language   \n",
            "7             not_propaganda   \n",
            "8                flag_waving   \n",
            "9                      doubt   \n",
            "\n",
            "                                            sentence  \n",
            "0  On average, between 300 and 600 infections are...  \n",
            "1  Mostly because <BOS> the country would not las...  \n",
            "2  Lyndon Johnson <BOS> gets Earl Warren and Sen....  \n",
            "3           <BOS> You <EOS> may opt out at anytime.   \n",
            "4  It must be exacted from him directly in order ...  \n",
            "5  Is it any wonder that priests and laity alike ...  \n",
            "6  Health workers have been asked to work with co...  \n",
            "7       The Best of <BOS> Jacob <EOS> G. Hornberger   \n",
            "8  Trump began his remarks by setting out <BOS> I...  \n",
            "9  <BOS> Now, the pope’s reply to my testimony wa...  \n"
          ]
        }
      ]
    },
    {
      "cell_type": "code",
      "source": [
        "# Encode labels as integers representing each of the nine classes\n",
        "label_encoder = LabelEncoder()\n",
        "train_data['encoded_label'] = label_encoder.fit_transform(train_data['label'])\n",
        "test_data['encoded_label'] = label_encoder.transform(test_data['label'])"
      ],
      "metadata": {
        "id": "2ZYPLJVO-tkn"
      },
      "execution_count": null,
      "outputs": []
    },
    {
      "cell_type": "code",
      "source": [
        "# Custom transformer for text preprocessing\n",
        "class TextPreprocessor(BaseEstimator, TransformerMixin):\n",
        "    def __init__(self):\n",
        "        self.stop_words = set(stopwords.words('english'))\n",
        "        self.punctuation = set(string.punctuation)\n",
        "\n",
        "    def fit(self, X, y=None):\n",
        "        return self\n",
        "\n",
        "    def transform(self, X, y=None):\n",
        "        return X.apply(self._preprocess)\n",
        "\n",
        "    def _preprocess(self, text):\n",
        "        # Lowercasing\n",
        "        text = text.lower()\n",
        "\n",
        "        # Remove <BOS> and <EOS> tokens\n",
        "        text = re.sub('<BOS>|<EOS>', '', text)\n",
        "\n",
        "        # Apply spaCy pipeline\n",
        "        doc = nlp(text)\n",
        "\n",
        "        # Remove stopwords and punctuation, and retain only relevant words (nouns, verbs, adjectives, etc.)\n",
        "        words = [\n",
        "            f\"{token.text}_{token.pos_}\" for token in doc\n",
        "            if token.pos_ in {'NOUN', 'VERB', 'ADJ', 'ADV'}\n",
        "            and token.text.lower() not in self.stop_words\n",
        "            and token.text not in self.punctuation\n",
        "        ]\n",
        "\n",
        "        # Include named entities in the text\n",
        "        entities = [f\"{ent.text}_ENTITY\" for ent in doc.ents]\n",
        "\n",
        "        # Combine words and entities\n",
        "        processed_text = words + entities\n",
        "\n",
        "        # Return preprocessed text\n",
        "        return ' '.join(processed_text)\n",
        "\n",
        "# Initialize the text preprocessor\n",
        "text_preprocessor = TextPreprocessor()\n"
      ],
      "metadata": {
        "id": "_w5Z92QX-wcB"
      },
      "execution_count": null,
      "outputs": []
    },
    {
      "cell_type": "code",
      "source": [
        "# Apply text preprocessing to the training and testing data\n",
        "train_data['cleaned_sentence'] = text_preprocessor.transform(train_data['sentence'])\n",
        "test_data['cleaned_sentence'] = text_preprocessor.transform(test_data['sentence'])\n",
        "\n",
        "# Verify the new columns\n",
        "print(\"\\nTraining Data with Cleaned Sentences:\")\n",
        "print(train_data.head(10))\n",
        "print(train_data.columns)\n",
        "\n",
        "print(\"\\nTesting Data with Cleaned Sentences:\")\n",
        "print(test_data.head(10))\n",
        "print(test_data.columns)"
      ],
      "metadata": {
        "colab": {
          "base_uri": "https://localhost:8080/"
        },
        "id": "ZTkwLaUi-xck",
        "outputId": "a9030f79-e9f9-484c-e79c-187e27721644"
      },
      "execution_count": null,
      "outputs": [
        {
          "output_type": "stream",
          "name": "stdout",
          "text": [
            "\n",
            "Training Data with Cleaned Sentences:\n",
            "             label                                           sentence  \\\n",
            "0   not_propaganda         No, <BOS> he <EOS> will not be confirmed.    \n",
            "1   not_propaganda  This declassification effort <BOS> won’t make ...   \n",
            "2      flag_waving  The Obama administration misled the <BOS> Amer...   \n",
            "3   not_propaganda  “It looks like we’re capturing the demise of t...   \n",
            "4   not_propaganda           <BOS> Location: Westerville, Ohio <EOS>    \n",
            "5  loaded_language  Hitler <BOS> annihilated <EOS> 400,000 Germans...   \n",
            "6   not_propaganda  A federal judge on Monday ordered U.S. immigra...   \n",
            "7   not_propaganda  <BOS> Kirstjen Nielsen (@SecNielsen) <EOS> Nov...   \n",
            "8            doubt  As noted above, at this point literally every ...   \n",
            "9   not_propaganda  Britain doesn't need more hate even just for a...   \n",
            "\n",
            "   encoded_label                                   cleaned_sentence  \n",
            "0              7                                     confirmed_VERB  \n",
            "1              7  declassification_NOUN effort_NOUN make_VERB th...  \n",
            "2              4  administration_NOUN misled_VERB people_NOUN de...  \n",
            "3              7  looks_VERB capturing_VERB demise_NOUN dark_ADJ...  \n",
            "4              7                                        ohio_ENTITY  \n",
            "5              5  annihilated_VERB germans_NOUN handicapped_VERB...  \n",
            "6              7  federal_ADJ judge_NOUN ordered_VERB immigratio...  \n",
            "7              7   kirstjen nielsen_ENTITY november 19, 2018_ENTITY  \n",
            "8              2  noted_VERB point_NOUN literally_ADV piece_NOUN...  \n",
            "9              7  need_VERB hate_NOUN even_ADV bos_NOUN days_NOU...  \n",
            "Index(['label', 'sentence', 'encoded_label', 'cleaned_sentence'], dtype='object')\n",
            "\n",
            "Testing Data with Cleaned Sentences:\n",
            "                       label  \\\n",
            "0             not_propaganda   \n",
            "1  causal_oversimplification   \n",
            "2   appeal_to_fear_prejudice   \n",
            "3             not_propaganda   \n",
            "4                 repetition   \n",
            "5      name_calling,labeling   \n",
            "6            loaded_language   \n",
            "7             not_propaganda   \n",
            "8                flag_waving   \n",
            "9                      doubt   \n",
            "\n",
            "                                            sentence  encoded_label  \\\n",
            "0  On average, between 300 and 600 infections are...              7   \n",
            "1  Mostly because <BOS> the country would not las...              1   \n",
            "2  Lyndon Johnson <BOS> gets Earl Warren and Sen....              0   \n",
            "3           <BOS> You <EOS> may opt out at anytime.               7   \n",
            "4  It must be exacted from him directly in order ...              8   \n",
            "5  Is it any wonder that priests and laity alike ...              6   \n",
            "6  Health workers have been asked to work with co...              5   \n",
            "7       The Best of <BOS> Jacob <EOS> G. Hornberger               7   \n",
            "8  Trump began his remarks by setting out <BOS> I...              4   \n",
            "9  <BOS> Now, the pope’s reply to my testimony wa...              2   \n",
            "\n",
            "                                    cleaned_sentence  \n",
            "0  average_ADJ infections_NOUN recorded_VERB year...  \n",
            "1  mostly_ADV country_NOUN last_VERB long_ADV out...  \n",
            "2  gets_VERB join_VERB telling_VERB assassination...  \n",
            "3                               opt_VERB anytime_ADV  \n",
            "4  exacted_VERB directly_ADV order_NOUN vilify_VE...  \n",
            "5  wonder_NOUN priests_NOUN laity_NOUN alike_ADV ...  \n",
            "6  health_NOUN workers_NOUN asked_VERB work_VERB ...  \n",
            "7           best_ADJ eos_ENTITY g. hornberger_ENTITY  \n",
            "8  trump_NOUN began_VERB remarks_NOUN setting_VER...  \n",
            "9  pope_NOUN reply_NOUN testimony_NOUN say_VERB w...  \n",
            "Index(['label', 'sentence', 'encoded_label', 'cleaned_sentence'], dtype='object')\n"
          ]
        }
      ]
    },
    {
      "cell_type": "code",
      "source": [
        "# Tokenize the cleaned sentences\n",
        "tokenizer = Tokenizer()\n",
        "tokenizer.fit_on_texts(train_data['cleaned_sentence'])\n",
        "X_train_seq = tokenizer.texts_to_sequences(train_data['cleaned_sentence'])\n",
        "X_test_seq = tokenizer.texts_to_sequences(test_data['cleaned_sentence'])"
      ],
      "metadata": {
        "id": "6Jtb5HdwG08y"
      },
      "execution_count": null,
      "outputs": []
    },
    {
      "cell_type": "code",
      "source": [
        "# Pad the sequences\n",
        "max_sequence_length = max(len(seq) for seq in X_train_seq)\n",
        "X_train_pad = pad_sequences(X_train_seq, maxlen=max_sequence_length)\n",
        "X_test_pad = pad_sequences(X_test_seq, maxlen=max_sequence_length)"
      ],
      "metadata": {
        "id": "2My2btGzG052"
      },
      "execution_count": null,
      "outputs": []
    },
    {
      "cell_type": "code",
      "source": [
        "# Extract the vocabulary size\n",
        "vocab_size = len(tokenizer.word_index) + 1"
      ],
      "metadata": {
        "id": "vxaq_kLcG0vj"
      },
      "execution_count": null,
      "outputs": []
    },
    {
      "cell_type": "code",
      "source": [
        "# Train a Word2Vec model on the cleaned sentences\n",
        "sentences = [sentence.split() for sentence in train_data['cleaned_sentence']]\n",
        "word2vec_model = Word2Vec(sentences, vector_size=100, window=5, min_count=1, workers=4)"
      ],
      "metadata": {
        "id": "yJgri9xe-z1y"
      },
      "execution_count": null,
      "outputs": []
    },
    {
      "cell_type": "code",
      "source": [
        "# Create an embedding matrix\n",
        "embedding_dim = 100\n",
        "embedding_matrix = np.zeros((vocab_size, embedding_dim))\n",
        "for word, i in tokenizer.word_index.items():\n",
        "    if word in word2vec_model.wv:\n",
        "        embedding_matrix[i] = word2vec_model.wv[word]"
      ],
      "metadata": {
        "id": "V8j-NDt1HAAB"
      },
      "execution_count": null,
      "outputs": []
    },
    {
      "cell_type": "markdown",
      "source": [
        "LSTM Model"
      ],
      "metadata": {
        "id": "NBNxdfVqHDAR"
      }
    },
    {
      "cell_type": "code",
      "source": [
        "# Input layer\n",
        "word_input = Input(shape=(max_sequence_length,), dtype='int32')\n",
        "\n",
        "# Embedding layer\n",
        "word_embedding = Embedding(input_dim=vocab_size,\n",
        "                           output_dim=embedding_dim,\n",
        "                           weights=[embedding_matrix],\n",
        "                           input_length=max_sequence_length,\n",
        "                           trainable=True)(word_input)\n",
        "\n",
        "# LSTM layers\n",
        "lstm_out = LSTM(128, return_sequences=True, dropout=0.2, recurrent_dropout=0.2)(word_embedding)\n",
        "lstm_out = LSTM(64, return_sequences=False, dropout=0.2, recurrent_dropout=0.2)(lstm_out)\n",
        "\n",
        "# Dense layer\n",
        "dense_out = Dense(64, activation='relu')(lstm_out)\n",
        "dense_out = Dropout(0.5)(dense_out)\n",
        "\n",
        "# Output layer\n",
        "output = Dense(len(label_encoder.classes_), activation='softmax')(dense_out)"
      ],
      "metadata": {
        "id": "MBR5-FxyG_9Z"
      },
      "execution_count": null,
      "outputs": []
    },
    {
      "cell_type": "code",
      "source": [
        "# Compile the model\n",
        "model = Model(inputs=word_input, outputs=output)\n",
        "model.compile(optimizer='adam', loss='categorical_crossentropy', metrics=['accuracy'])"
      ],
      "metadata": {
        "id": "Mz_UiBpYHIgT"
      },
      "execution_count": null,
      "outputs": []
    },
    {
      "cell_type": "code",
      "source": [
        "# Convert labels to categorical\n",
        "y_train_cat = to_categorical(train_data['encoded_label'])\n",
        "y_test_cat = to_categorical(test_data['encoded_label'])"
      ],
      "metadata": {
        "id": "llLxIs0vHRTV"
      },
      "execution_count": null,
      "outputs": []
    },
    {
      "cell_type": "code",
      "source": [
        "# Train the model\n",
        "model.fit(X_train_pad, y_train_cat, epochs=10, batch_size=32, validation_split=0.2)"
      ],
      "metadata": {
        "colab": {
          "base_uri": "https://localhost:8080/"
        },
        "id": "b7Tveh03HVU-",
        "outputId": "9601b2bd-07d1-4ad8-91eb-c3dac53e7283"
      },
      "execution_count": null,
      "outputs": [
        {
          "output_type": "stream",
          "name": "stdout",
          "text": [
            "Epoch 1/10\n",
            "61/61 [==============================] - 400s 6s/step - loss: 1.8448 - accuracy: 0.4790 - val_loss: 1.6383 - val_accuracy: 0.5238\n",
            "Epoch 2/10\n",
            "61/61 [==============================] - 391s 6s/step - loss: 1.5905 - accuracy: 0.4977 - val_loss: 1.6594 - val_accuracy: 0.4928\n",
            "Epoch 3/10\n",
            "61/61 [==============================] - 380s 6s/step - loss: 1.3622 - accuracy: 0.5184 - val_loss: 1.7925 - val_accuracy: 0.4865\n",
            "Epoch 4/10\n",
            "61/61 [==============================] - 390s 6s/step - loss: 1.2471 - accuracy: 0.5432 - val_loss: 1.9401 - val_accuracy: 0.4431\n",
            "Epoch 5/10\n",
            "61/61 [==============================] - 399s 7s/step - loss: 1.1811 - accuracy: 0.5489 - val_loss: 2.0626 - val_accuracy: 0.4120\n",
            "Epoch 6/10\n",
            "61/61 [==============================] - 385s 6s/step - loss: 1.1226 - accuracy: 0.5593 - val_loss: 2.1897 - val_accuracy: 0.4079\n",
            "Epoch 7/10\n",
            "61/61 [==============================] - 387s 6s/step - loss: 1.1045 - accuracy: 0.5691 - val_loss: 2.2612 - val_accuracy: 0.3644\n",
            "Epoch 8/10\n",
            "61/61 [==============================] - 391s 6s/step - loss: 1.0950 - accuracy: 0.5790 - val_loss: 2.1506 - val_accuracy: 0.4037\n",
            "Epoch 9/10\n",
            "61/61 [==============================] - 392s 6s/step - loss: 1.0221 - accuracy: 0.6064 - val_loss: 2.5382 - val_accuracy: 0.4037\n",
            "Epoch 10/10\n",
            "61/61 [==============================] - 392s 6s/step - loss: 0.9555 - accuracy: 0.6147 - val_loss: 2.6062 - val_accuracy: 0.3810\n"
          ]
        },
        {
          "output_type": "execute_result",
          "data": {
            "text/plain": [
              "<keras.src.callbacks.History at 0x793230dbac20>"
            ]
          },
          "metadata": {},
          "execution_count": 16
        }
      ]
    },
    {
      "cell_type": "code",
      "source": [
        "# Evaluate the model on the test set\n",
        "test_loss, test_accuracy = model.evaluate(X_test_pad, y_test_cat)\n",
        "print(f\"Test accuracy: {test_accuracy}\")"
      ],
      "metadata": {
        "colab": {
          "base_uri": "https://localhost:8080/"
        },
        "id": "RKSNEr0jWgEk",
        "outputId": "8e841364-c8e0-4804-8ab0-755d7d820e3c"
      },
      "execution_count": null,
      "outputs": [
        {
          "output_type": "stream",
          "name": "stdout",
          "text": [
            "19/19 [==============================] - 15s 799ms/step - loss: 2.4670 - accuracy: 0.3983\n",
            "Test accuracy: 0.39827585220336914\n"
          ]
        }
      ]
    },
    {
      "cell_type": "code",
      "source": [
        "# Predict the labels on the test set\n",
        "y_pred = model.predict(X_test_pad)\n",
        "y_pred_classes = np.argmax(y_pred, axis=1)"
      ],
      "metadata": {
        "colab": {
          "base_uri": "https://localhost:8080/"
        },
        "id": "Uus4JVyaWf-9",
        "outputId": "216f324e-271d-48ee-8ae1-89b4c93cfeb0"
      },
      "execution_count": null,
      "outputs": [
        {
          "output_type": "stream",
          "name": "stdout",
          "text": [
            "19/19 [==============================] - 16s 670ms/step\n"
          ]
        }
      ]
    },
    {
      "cell_type": "code",
      "source": [
        "# Print out the classification report\n",
        "print(classification_report(test_data['encoded_label'], y_pred_classes, target_names=label_encoder.classes_))"
      ],
      "metadata": {
        "colab": {
          "base_uri": "https://localhost:8080/"
        },
        "id": "yt3Dak3uWz7V",
        "outputId": "f1f6110e-f542-488c-8310-dfc9439179ed"
      },
      "execution_count": null,
      "outputs": [
        {
          "output_type": "stream",
          "name": "stdout",
          "text": [
            "                           precision    recall  f1-score   support\n",
            "\n",
            " appeal_to_fear_prejudice       0.05      0.02      0.03        43\n",
            "causal_oversimplification       0.17      0.19      0.18        31\n",
            "                    doubt       0.33      0.08      0.13        38\n",
            "exaggeration,minimisation       0.07      0.04      0.05        28\n",
            "              flag_waving       0.23      0.46      0.31        39\n",
            "          loaded_language       0.05      0.05      0.05        37\n",
            "    name_calling,labeling       0.19      0.16      0.18        31\n",
            "           not_propaganda       0.70      0.63      0.66       301\n",
            "               repetition       0.07      0.19      0.10        32\n",
            "\n",
            "                 accuracy                           0.40       580\n",
            "                macro avg       0.21      0.20      0.19       580\n",
            "             weighted avg       0.44      0.40      0.41       580\n",
            "\n"
          ]
        }
      ]
    }
  ]
}