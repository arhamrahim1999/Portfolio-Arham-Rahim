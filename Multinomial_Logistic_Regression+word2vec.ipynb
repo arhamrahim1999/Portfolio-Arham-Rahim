{
  "nbformat": 4,
  "nbformat_minor": 0,
  "metadata": {
    "colab": {
      "provenance": [],
      "gpuType": "T4"
    },
    "kernelspec": {
      "name": "python3",
      "display_name": "Python 3"
    },
    "language_info": {
      "name": "python"
    },
    "accelerator": "GPU"
  },
  "cells": [
    {
      "cell_type": "code",
      "execution_count": null,
      "metadata": {
        "colab": {
          "base_uri": "https://localhost:8080/"
        },
        "id": "EI2IP5rS9v3U",
        "outputId": "f6e56a08-bb82-4929-dd2d-2c548c5cfcf0"
      },
      "outputs": [
        {
          "output_type": "stream",
          "name": "stderr",
          "text": [
            "[nltk_data] Downloading package stopwords to /root/nltk_data...\n",
            "[nltk_data]   Package stopwords is already up-to-date!\n",
            "[nltk_data] Downloading package punkt to /root/nltk_data...\n",
            "[nltk_data]   Package punkt is already up-to-date!\n",
            "/usr/local/lib/python3.10/dist-packages/spacy/util.py:1740: UserWarning: [W111] Jupyter notebook detected: if using `prefer_gpu()` or `require_gpu()`, include it in the same cell right before `spacy.load()` to ensure that the model is loaded on the correct device. More information: http://spacy.io/usage/v3#jupyter-notebook-gpu\n",
            "  warnings.warn(Warnings.W111)\n"
          ]
        }
      ],
      "source": [
        "import nltk\n",
        "from nltk.corpus import stopwords\n",
        "import spacy\n",
        "import string\n",
        "import pandas as pd\n",
        "from sklearn.model_selection import train_test_split, RandomizedSearchCV, cross_val_score\n",
        "from sklearn.feature_extraction.text import TfidfVectorizer\n",
        "from sklearn.pipeline import Pipeline\n",
        "from sklearn.base import BaseEstimator, TransformerMixin\n",
        "import re\n",
        "from sklearn.linear_model import LogisticRegression\n",
        "from sklearn.metrics import classification_report\n",
        "from sklearn.preprocessing import LabelEncoder\n",
        "from imblearn.over_sampling import SMOTE\n",
        "from imblearn.pipeline import Pipeline as ImbPipeline\n",
        "from gensim.models import Word2Vec\n",
        "import numpy as np\n",
        "\n",
        "# Download the stopwords from NLTK\n",
        "nltk.download('stopwords')\n",
        "nltk.download('punkt')\n",
        "\n",
        "# Load the spaCy model for NER and POS tagging\n",
        "nlp = spacy.load('en_core_web_sm')"
      ]
    },
    {
      "cell_type": "code",
      "source": [
        "# Upload datasets\n",
        "from google.colab import files\n",
        "\n",
        "# Prompt to upload the unzipped file\n",
        "uploaded = files.upload()\n"
      ],
      "metadata": {
        "colab": {
          "base_uri": "https://localhost:8080/",
          "height": 108
        },
        "id": "rN169wlB950o",
        "outputId": "f54c648f-7c8f-4458-b207-6bc4127e898e"
      },
      "execution_count": null,
      "outputs": [
        {
          "output_type": "display_data",
          "data": {
            "text/plain": [
              "<IPython.core.display.HTML object>"
            ],
            "text/html": [
              "\n",
              "     <input type=\"file\" id=\"files-0ad84f74-cf75-4708-99e5-876eacca8d53\" name=\"files[]\" multiple disabled\n",
              "        style=\"border:none\" />\n",
              "     <output id=\"result-0ad84f74-cf75-4708-99e5-876eacca8d53\">\n",
              "      Upload widget is only available when the cell has been executed in the\n",
              "      current browser session. Please rerun this cell to enable.\n",
              "      </output>\n",
              "      <script>// Copyright 2017 Google LLC\n",
              "//\n",
              "// Licensed under the Apache License, Version 2.0 (the \"License\");\n",
              "// you may not use this file except in compliance with the License.\n",
              "// You may obtain a copy of the License at\n",
              "//\n",
              "//      http://www.apache.org/licenses/LICENSE-2.0\n",
              "//\n",
              "// Unless required by applicable law or agreed to in writing, software\n",
              "// distributed under the License is distributed on an \"AS IS\" BASIS,\n",
              "// WITHOUT WARRANTIES OR CONDITIONS OF ANY KIND, either express or implied.\n",
              "// See the License for the specific language governing permissions and\n",
              "// limitations under the License.\n",
              "\n",
              "/**\n",
              " * @fileoverview Helpers for google.colab Python module.\n",
              " */\n",
              "(function(scope) {\n",
              "function span(text, styleAttributes = {}) {\n",
              "  const element = document.createElement('span');\n",
              "  element.textContent = text;\n",
              "  for (const key of Object.keys(styleAttributes)) {\n",
              "    element.style[key] = styleAttributes[key];\n",
              "  }\n",
              "  return element;\n",
              "}\n",
              "\n",
              "// Max number of bytes which will be uploaded at a time.\n",
              "const MAX_PAYLOAD_SIZE = 100 * 1024;\n",
              "\n",
              "function _uploadFiles(inputId, outputId) {\n",
              "  const steps = uploadFilesStep(inputId, outputId);\n",
              "  const outputElement = document.getElementById(outputId);\n",
              "  // Cache steps on the outputElement to make it available for the next call\n",
              "  // to uploadFilesContinue from Python.\n",
              "  outputElement.steps = steps;\n",
              "\n",
              "  return _uploadFilesContinue(outputId);\n",
              "}\n",
              "\n",
              "// This is roughly an async generator (not supported in the browser yet),\n",
              "// where there are multiple asynchronous steps and the Python side is going\n",
              "// to poll for completion of each step.\n",
              "// This uses a Promise to block the python side on completion of each step,\n",
              "// then passes the result of the previous step as the input to the next step.\n",
              "function _uploadFilesContinue(outputId) {\n",
              "  const outputElement = document.getElementById(outputId);\n",
              "  const steps = outputElement.steps;\n",
              "\n",
              "  const next = steps.next(outputElement.lastPromiseValue);\n",
              "  return Promise.resolve(next.value.promise).then((value) => {\n",
              "    // Cache the last promise value to make it available to the next\n",
              "    // step of the generator.\n",
              "    outputElement.lastPromiseValue = value;\n",
              "    return next.value.response;\n",
              "  });\n",
              "}\n",
              "\n",
              "/**\n",
              " * Generator function which is called between each async step of the upload\n",
              " * process.\n",
              " * @param {string} inputId Element ID of the input file picker element.\n",
              " * @param {string} outputId Element ID of the output display.\n",
              " * @return {!Iterable<!Object>} Iterable of next steps.\n",
              " */\n",
              "function* uploadFilesStep(inputId, outputId) {\n",
              "  const inputElement = document.getElementById(inputId);\n",
              "  inputElement.disabled = false;\n",
              "\n",
              "  const outputElement = document.getElementById(outputId);\n",
              "  outputElement.innerHTML = '';\n",
              "\n",
              "  const pickedPromise = new Promise((resolve) => {\n",
              "    inputElement.addEventListener('change', (e) => {\n",
              "      resolve(e.target.files);\n",
              "    });\n",
              "  });\n",
              "\n",
              "  const cancel = document.createElement('button');\n",
              "  inputElement.parentElement.appendChild(cancel);\n",
              "  cancel.textContent = 'Cancel upload';\n",
              "  const cancelPromise = new Promise((resolve) => {\n",
              "    cancel.onclick = () => {\n",
              "      resolve(null);\n",
              "    };\n",
              "  });\n",
              "\n",
              "  // Wait for the user to pick the files.\n",
              "  const files = yield {\n",
              "    promise: Promise.race([pickedPromise, cancelPromise]),\n",
              "    response: {\n",
              "      action: 'starting',\n",
              "    }\n",
              "  };\n",
              "\n",
              "  cancel.remove();\n",
              "\n",
              "  // Disable the input element since further picks are not allowed.\n",
              "  inputElement.disabled = true;\n",
              "\n",
              "  if (!files) {\n",
              "    return {\n",
              "      response: {\n",
              "        action: 'complete',\n",
              "      }\n",
              "    };\n",
              "  }\n",
              "\n",
              "  for (const file of files) {\n",
              "    const li = document.createElement('li');\n",
              "    li.append(span(file.name, {fontWeight: 'bold'}));\n",
              "    li.append(span(\n",
              "        `(${file.type || 'n/a'}) - ${file.size} bytes, ` +\n",
              "        `last modified: ${\n",
              "            file.lastModifiedDate ? file.lastModifiedDate.toLocaleDateString() :\n",
              "                                    'n/a'} - `));\n",
              "    const percent = span('0% done');\n",
              "    li.appendChild(percent);\n",
              "\n",
              "    outputElement.appendChild(li);\n",
              "\n",
              "    const fileDataPromise = new Promise((resolve) => {\n",
              "      const reader = new FileReader();\n",
              "      reader.onload = (e) => {\n",
              "        resolve(e.target.result);\n",
              "      };\n",
              "      reader.readAsArrayBuffer(file);\n",
              "    });\n",
              "    // Wait for the data to be ready.\n",
              "    let fileData = yield {\n",
              "      promise: fileDataPromise,\n",
              "      response: {\n",
              "        action: 'continue',\n",
              "      }\n",
              "    };\n",
              "\n",
              "    // Use a chunked sending to avoid message size limits. See b/62115660.\n",
              "    let position = 0;\n",
              "    do {\n",
              "      const length = Math.min(fileData.byteLength - position, MAX_PAYLOAD_SIZE);\n",
              "      const chunk = new Uint8Array(fileData, position, length);\n",
              "      position += length;\n",
              "\n",
              "      const base64 = btoa(String.fromCharCode.apply(null, chunk));\n",
              "      yield {\n",
              "        response: {\n",
              "          action: 'append',\n",
              "          file: file.name,\n",
              "          data: base64,\n",
              "        },\n",
              "      };\n",
              "\n",
              "      let percentDone = fileData.byteLength === 0 ?\n",
              "          100 :\n",
              "          Math.round((position / fileData.byteLength) * 100);\n",
              "      percent.textContent = `${percentDone}% done`;\n",
              "\n",
              "    } while (position < fileData.byteLength);\n",
              "  }\n",
              "\n",
              "  // All done.\n",
              "  yield {\n",
              "    response: {\n",
              "      action: 'complete',\n",
              "    }\n",
              "  };\n",
              "}\n",
              "\n",
              "scope.google = scope.google || {};\n",
              "scope.google.colab = scope.google.colab || {};\n",
              "scope.google.colab._files = {\n",
              "  _uploadFiles,\n",
              "  _uploadFilesContinue,\n",
              "};\n",
              "})(self);\n",
              "</script> "
            ]
          },
          "metadata": {}
        },
        {
          "output_type": "stream",
          "name": "stdout",
          "text": [
            "Saving propaganda_train.tsv to propaganda_train.tsv\n",
            "Saving propaganda_val.tsv to propaganda_val.tsv\n"
          ]
        }
      ]
    },
    {
      "cell_type": "code",
      "source": [
        "# Load the training data\n",
        "train_data = pd.read_csv('propaganda_train.tsv', sep='\\t', header=None, names=['label', 'sentence'])\n",
        "\n",
        "# Load the testing data\n",
        "test_data = pd.read_csv('propaganda_val.tsv', sep='\\t', header=None, names=['label', 'sentence'])\n",
        "\n",
        "# Remove the first row of both training and testing data\n",
        "train_data = train_data.drop(0).reset_index(drop=True)\n",
        "test_data = test_data.drop(0).reset_index(drop=True)\n",
        "\n",
        "# Display the first few rows of the training data\n",
        "print(\"Training Data:\")\n",
        "print(train_data.head(10))\n",
        "\n",
        "# Display the first few rows of the testing data\n",
        "print(\"\\nTesting Data:\")\n",
        "print(test_data.head(10))"
      ],
      "metadata": {
        "colab": {
          "base_uri": "https://localhost:8080/"
        },
        "id": "_lY6CC1T-oXT",
        "outputId": "b68938dc-27eb-42cb-ea41-31142daedf87"
      },
      "execution_count": null,
      "outputs": [
        {
          "output_type": "stream",
          "name": "stdout",
          "text": [
            "Training Data:\n",
            "             label                                           sentence\n",
            "0   not_propaganda         No, <BOS> he <EOS> will not be confirmed. \n",
            "1   not_propaganda  This declassification effort <BOS> won’t make ...\n",
            "2      flag_waving  The Obama administration misled the <BOS> Amer...\n",
            "3   not_propaganda  “It looks like we’re capturing the demise of t...\n",
            "4   not_propaganda           <BOS> Location: Westerville, Ohio <EOS> \n",
            "5  loaded_language  Hitler <BOS> annihilated <EOS> 400,000 Germans...\n",
            "6   not_propaganda  A federal judge on Monday ordered U.S. immigra...\n",
            "7   not_propaganda  <BOS> Kirstjen Nielsen (@SecNielsen) <EOS> Nov...\n",
            "8            doubt  As noted above, at this point literally every ...\n",
            "9   not_propaganda  Britain doesn't need more hate even just for a...\n",
            "\n",
            "Testing Data:\n",
            "                       label  \\\n",
            "0             not_propaganda   \n",
            "1  causal_oversimplification   \n",
            "2   appeal_to_fear_prejudice   \n",
            "3             not_propaganda   \n",
            "4                 repetition   \n",
            "5      name_calling,labeling   \n",
            "6            loaded_language   \n",
            "7             not_propaganda   \n",
            "8                flag_waving   \n",
            "9                      doubt   \n",
            "\n",
            "                                            sentence  \n",
            "0  On average, between 300 and 600 infections are...  \n",
            "1  Mostly because <BOS> the country would not las...  \n",
            "2  Lyndon Johnson <BOS> gets Earl Warren and Sen....  \n",
            "3           <BOS> You <EOS> may opt out at anytime.   \n",
            "4  It must be exacted from him directly in order ...  \n",
            "5  Is it any wonder that priests and laity alike ...  \n",
            "6  Health workers have been asked to work with co...  \n",
            "7       The Best of <BOS> Jacob <EOS> G. Hornberger   \n",
            "8  Trump began his remarks by setting out <BOS> I...  \n",
            "9  <BOS> Now, the pope’s reply to my testimony wa...  \n"
          ]
        }
      ]
    },
    {
      "cell_type": "code",
      "source": [
        "# Encode labels as integers representing each of the nine classes\n",
        "label_encoder = LabelEncoder()\n",
        "train_data['encoded_label'] = label_encoder.fit_transform(train_data['label'])\n",
        "test_data['encoded_label'] = label_encoder.transform(test_data['label'])"
      ],
      "metadata": {
        "id": "2ZYPLJVO-tkn"
      },
      "execution_count": null,
      "outputs": []
    },
    {
      "cell_type": "code",
      "source": [
        "# Custom transformer for text preprocessing\n",
        "class TextPreprocessor(BaseEstimator, TransformerMixin):\n",
        "    def __init__(self):\n",
        "        self.stop_words = set(stopwords.words('english'))\n",
        "        self.punctuation = set(string.punctuation)\n",
        "\n",
        "    def fit(self, X, y=None):\n",
        "        return self\n",
        "\n",
        "    def transform(self, X, y=None):\n",
        "        return X.apply(self._preprocess)\n",
        "\n",
        "    def _preprocess(self, text):\n",
        "        # Lowercasing\n",
        "        text = text.lower()\n",
        "\n",
        "        # Remove <BOS> and <EOS> tokens\n",
        "        text = re.sub('<BOS>|<EOS>', '', text)\n",
        "\n",
        "        # Apply spaCy pipeline\n",
        "        doc = nlp(text)\n",
        "\n",
        "        # Remove stopwords and punctuation, and retain only relevant words (nouns, verbs, adjectives, etc.)\n",
        "        words = [\n",
        "            f\"{token.text}_{token.pos_}\" for token in doc\n",
        "            if token.pos_ in {'NOUN', 'VERB', 'ADJ', 'ADV'}\n",
        "            and token.text.lower() not in self.stop_words\n",
        "            and token.text not in self.punctuation\n",
        "        ]\n",
        "\n",
        "        # Include named entities in the text\n",
        "        entities = [f\"{ent.text}_ENTITY\" for ent in doc.ents]\n",
        "\n",
        "        # Combine words and entities\n",
        "        processed_text = words + entities\n",
        "\n",
        "        # Return preprocessed text\n",
        "        return ' '.join(processed_text)\n",
        "\n",
        "# Initialize the text preprocessor\n",
        "text_preprocessor = TextPreprocessor()\n"
      ],
      "metadata": {
        "id": "_w5Z92QX-wcB"
      },
      "execution_count": null,
      "outputs": []
    },
    {
      "cell_type": "code",
      "source": [
        "# Apply text preprocessing to the training and testing data\n",
        "train_data['cleaned_sentence'] = text_preprocessor.transform(train_data['sentence'])\n",
        "test_data['cleaned_sentence'] = text_preprocessor.transform(test_data['sentence'])\n",
        "\n",
        "# Verify the new columns\n",
        "print(\"\\nTraining Data with Cleaned Sentences:\")\n",
        "print(train_data.head(10))\n",
        "print(train_data.columns)\n",
        "\n",
        "print(\"\\nTesting Data with Cleaned Sentences:\")\n",
        "print(test_data.head(10))\n",
        "print(test_data.columns)"
      ],
      "metadata": {
        "colab": {
          "base_uri": "https://localhost:8080/"
        },
        "id": "ZTkwLaUi-xck",
        "outputId": "ebb26b7c-3d9d-467d-8734-2957c522b4df"
      },
      "execution_count": null,
      "outputs": [
        {
          "output_type": "stream",
          "name": "stdout",
          "text": [
            "\n",
            "Training Data with Cleaned Sentences:\n",
            "             label                                           sentence  \\\n",
            "0   not_propaganda         No, <BOS> he <EOS> will not be confirmed.    \n",
            "1   not_propaganda  This declassification effort <BOS> won’t make ...   \n",
            "2      flag_waving  The Obama administration misled the <BOS> Amer...   \n",
            "3   not_propaganda  “It looks like we’re capturing the demise of t...   \n",
            "4   not_propaganda           <BOS> Location: Westerville, Ohio <EOS>    \n",
            "5  loaded_language  Hitler <BOS> annihilated <EOS> 400,000 Germans...   \n",
            "6   not_propaganda  A federal judge on Monday ordered U.S. immigra...   \n",
            "7   not_propaganda  <BOS> Kirstjen Nielsen (@SecNielsen) <EOS> Nov...   \n",
            "8            doubt  As noted above, at this point literally every ...   \n",
            "9   not_propaganda  Britain doesn't need more hate even just for a...   \n",
            "\n",
            "   encoded_label                                   cleaned_sentence  \n",
            "0              7                                     confirmed_VERB  \n",
            "1              7  declassification_NOUN effort_NOUN make_VERB th...  \n",
            "2              4  administration_NOUN misled_VERB people_NOUN de...  \n",
            "3              7  looks_VERB capturing_VERB demise_NOUN dark_ADJ...  \n",
            "4              7                                        ohio_ENTITY  \n",
            "5              5  annihilated_VERB germans_NOUN handicapped_VERB...  \n",
            "6              7  federal_ADJ judge_NOUN ordered_VERB immigratio...  \n",
            "7              7   kirstjen nielsen_ENTITY november 19, 2018_ENTITY  \n",
            "8              2  noted_VERB point_NOUN literally_ADV piece_NOUN...  \n",
            "9              7  need_VERB hate_NOUN even_ADV bos_NOUN days_NOU...  \n",
            "Index(['label', 'sentence', 'encoded_label', 'cleaned_sentence'], dtype='object')\n",
            "\n",
            "Testing Data with Cleaned Sentences:\n",
            "                       label  \\\n",
            "0             not_propaganda   \n",
            "1  causal_oversimplification   \n",
            "2   appeal_to_fear_prejudice   \n",
            "3             not_propaganda   \n",
            "4                 repetition   \n",
            "5      name_calling,labeling   \n",
            "6            loaded_language   \n",
            "7             not_propaganda   \n",
            "8                flag_waving   \n",
            "9                      doubt   \n",
            "\n",
            "                                            sentence  encoded_label  \\\n",
            "0  On average, between 300 and 600 infections are...              7   \n",
            "1  Mostly because <BOS> the country would not las...              1   \n",
            "2  Lyndon Johnson <BOS> gets Earl Warren and Sen....              0   \n",
            "3           <BOS> You <EOS> may opt out at anytime.               7   \n",
            "4  It must be exacted from him directly in order ...              8   \n",
            "5  Is it any wonder that priests and laity alike ...              6   \n",
            "6  Health workers have been asked to work with co...              5   \n",
            "7       The Best of <BOS> Jacob <EOS> G. Hornberger               7   \n",
            "8  Trump began his remarks by setting out <BOS> I...              4   \n",
            "9  <BOS> Now, the pope’s reply to my testimony wa...              2   \n",
            "\n",
            "                                    cleaned_sentence  \n",
            "0  average_ADJ infections_NOUN recorded_VERB year...  \n",
            "1  mostly_ADV country_NOUN last_VERB long_ADV out...  \n",
            "2  gets_VERB join_VERB telling_VERB assassination...  \n",
            "3                               opt_VERB anytime_ADV  \n",
            "4  exacted_VERB directly_ADV order_NOUN vilify_VE...  \n",
            "5  wonder_NOUN priests_NOUN laity_NOUN alike_ADV ...  \n",
            "6  health_NOUN workers_NOUN asked_VERB work_VERB ...  \n",
            "7           best_ADJ eos_ENTITY g. hornberger_ENTITY  \n",
            "8  trump_NOUN began_VERB remarks_NOUN setting_VER...  \n",
            "9  pope_NOUN reply_NOUN testimony_NOUN say_VERB w...  \n",
            "Index(['label', 'sentence', 'encoded_label', 'cleaned_sentence'], dtype='object')\n"
          ]
        }
      ]
    },
    {
      "cell_type": "code",
      "source": [
        "# Train a Word2Vec model on the cleaned sentences\n",
        "sentences = [sentence.split() for sentence in train_data['cleaned_sentence']]\n",
        "word2vec_model = Word2Vec(sentences, vector_size=100, window=5, min_count=1, workers=4)"
      ],
      "metadata": {
        "id": "yJgri9xe-z1y"
      },
      "execution_count": null,
      "outputs": []
    },
    {
      "cell_type": "code",
      "source": [
        "# Custom transformer to generate Word2Vec embeddings\n",
        "class Word2VecTransformer(BaseEstimator, TransformerMixin):\n",
        "    def __init__(self, word2vec_model):\n",
        "        self.word2vec_model = word2vec_model\n",
        "\n",
        "    def fit(self, X, y=None):\n",
        "        return self\n",
        "\n",
        "    def transform(self, X, y=None):\n",
        "        word2vec_features = np.array([\n",
        "            np.mean([self.word2vec_model.wv[word] for word in sentence.split() if word in self.word2vec_model.wv]\n",
        "                    or [np.zeros(self.word2vec_model.vector_size)], axis=0)\n",
        "            for sentence in X\n",
        "        ])\n",
        "        return word2vec_features"
      ],
      "metadata": {
        "id": "Inz95GDy-7vN"
      },
      "execution_count": null,
      "outputs": []
    },
    {
      "cell_type": "code",
      "source": [
        "# Initialize the custom transformer\n",
        "word2vec_transformer = Word2VecTransformer(word2vec_model)"
      ],
      "metadata": {
        "id": "WQ3TgXiu-9NX"
      },
      "execution_count": null,
      "outputs": []
    },
    {
      "cell_type": "code",
      "source": [
        "pipeline = ImbPipeline(steps=[\n",
        "    ('word2vec_transformer', word2vec_transformer),\n",
        "    ('smote', SMOTE(random_state=42)),\n",
        "    ('classifier', LogisticRegression(max_iter=1000, solver='lbfgs', multi_class='multinomial'))\n",
        "])"
      ],
      "metadata": {
        "id": "DdugyPc--_Ld"
      },
      "execution_count": null,
      "outputs": []
    },
    {
      "cell_type": "code",
      "source": [
        "# Prepare data for the pipeline\n",
        "X_train = train_data['cleaned_sentence']\n",
        "y_train = train_data['encoded_label']\n",
        "X_test = test_data['cleaned_sentence']\n",
        "y_test = test_data['encoded_label']"
      ],
      "metadata": {
        "id": "wXD14mp5_A5v"
      },
      "execution_count": null,
      "outputs": []
    },
    {
      "cell_type": "code",
      "source": [
        "# Define the parameter grid for RandomizedSearchCV\n",
        "param_grid = {\n",
        "\n",
        "    'classifier__C': [0.01, 0.1, 1, 10, 100],  # Regularization parameter\n",
        "    'classifier__max_iter': [1000,1500]  # Different maximum iterations\n",
        "}"
      ],
      "metadata": {
        "id": "FhXgjZ6L_Lii"
      },
      "execution_count": null,
      "outputs": []
    },
    {
      "cell_type": "code",
      "source": [
        "# Perform randomized search for hyperparameter tuning\n",
        "random_search = RandomizedSearchCV(pipeline, param_distributions=param_grid, n_iter=10, cv=5, scoring='f1_macro', random_state=42)\n",
        "random_search.fit(X_train, y_train)"
      ],
      "metadata": {
        "id": "Y2H0H1y_AeLW",
        "colab": {
          "base_uri": "https://localhost:8080/",
          "height": 185
        },
        "outputId": "6e1ed95c-43a9-4583-d699-af5065dfc244"
      },
      "execution_count": null,
      "outputs": [
        {
          "output_type": "execute_result",
          "data": {
            "text/plain": [
              "RandomizedSearchCV(cv=5,\n",
              "                   estimator=Pipeline(steps=[('word2vec_transformer',\n",
              "                                              Word2VecTransformer(word2vec_model=<gensim.models.word2vec.Word2Vec object at 0x7888e817b760>)),\n",
              "                                             ('smote', SMOTE(random_state=42)),\n",
              "                                             ('classifier',\n",
              "                                              LogisticRegression(max_iter=1000,\n",
              "                                                                 multi_class='multinomial'))]),\n",
              "                   param_distributions={'classifier__C': [0.01, 0.1, 1, 10,\n",
              "                                                          100],\n",
              "                                        'classifier__max_iter': [1000, 1500],\n",
              "                                        'classifier__solver': ['lbfgs']},\n",
              "                   random_state=42, scoring='f1_macro')"
            ],
            "text/html": [
              "<style>#sk-container-id-4 {color: black;background-color: white;}#sk-container-id-4 pre{padding: 0;}#sk-container-id-4 div.sk-toggleable {background-color: white;}#sk-container-id-4 label.sk-toggleable__label {cursor: pointer;display: block;width: 100%;margin-bottom: 0;padding: 0.3em;box-sizing: border-box;text-align: center;}#sk-container-id-4 label.sk-toggleable__label-arrow:before {content: \"▸\";float: left;margin-right: 0.25em;color: #696969;}#sk-container-id-4 label.sk-toggleable__label-arrow:hover:before {color: black;}#sk-container-id-4 div.sk-estimator:hover label.sk-toggleable__label-arrow:before {color: black;}#sk-container-id-4 div.sk-toggleable__content {max-height: 0;max-width: 0;overflow: hidden;text-align: left;background-color: #f0f8ff;}#sk-container-id-4 div.sk-toggleable__content pre {margin: 0.2em;color: black;border-radius: 0.25em;background-color: #f0f8ff;}#sk-container-id-4 input.sk-toggleable__control:checked~div.sk-toggleable__content {max-height: 200px;max-width: 100%;overflow: auto;}#sk-container-id-4 input.sk-toggleable__control:checked~label.sk-toggleable__label-arrow:before {content: \"▾\";}#sk-container-id-4 div.sk-estimator input.sk-toggleable__control:checked~label.sk-toggleable__label {background-color: #d4ebff;}#sk-container-id-4 div.sk-label input.sk-toggleable__control:checked~label.sk-toggleable__label {background-color: #d4ebff;}#sk-container-id-4 input.sk-hidden--visually {border: 0;clip: rect(1px 1px 1px 1px);clip: rect(1px, 1px, 1px, 1px);height: 1px;margin: -1px;overflow: hidden;padding: 0;position: absolute;width: 1px;}#sk-container-id-4 div.sk-estimator {font-family: monospace;background-color: #f0f8ff;border: 1px dotted black;border-radius: 0.25em;box-sizing: border-box;margin-bottom: 0.5em;}#sk-container-id-4 div.sk-estimator:hover {background-color: #d4ebff;}#sk-container-id-4 div.sk-parallel-item::after {content: \"\";width: 100%;border-bottom: 1px solid gray;flex-grow: 1;}#sk-container-id-4 div.sk-label:hover label.sk-toggleable__label {background-color: #d4ebff;}#sk-container-id-4 div.sk-serial::before {content: \"\";position: absolute;border-left: 1px solid gray;box-sizing: border-box;top: 0;bottom: 0;left: 50%;z-index: 0;}#sk-container-id-4 div.sk-serial {display: flex;flex-direction: column;align-items: center;background-color: white;padding-right: 0.2em;padding-left: 0.2em;position: relative;}#sk-container-id-4 div.sk-item {position: relative;z-index: 1;}#sk-container-id-4 div.sk-parallel {display: flex;align-items: stretch;justify-content: center;background-color: white;position: relative;}#sk-container-id-4 div.sk-item::before, #sk-container-id-4 div.sk-parallel-item::before {content: \"\";position: absolute;border-left: 1px solid gray;box-sizing: border-box;top: 0;bottom: 0;left: 50%;z-index: -1;}#sk-container-id-4 div.sk-parallel-item {display: flex;flex-direction: column;z-index: 1;position: relative;background-color: white;}#sk-container-id-4 div.sk-parallel-item:first-child::after {align-self: flex-end;width: 50%;}#sk-container-id-4 div.sk-parallel-item:last-child::after {align-self: flex-start;width: 50%;}#sk-container-id-4 div.sk-parallel-item:only-child::after {width: 0;}#sk-container-id-4 div.sk-dashed-wrapped {border: 1px dashed gray;margin: 0 0.4em 0.5em 0.4em;box-sizing: border-box;padding-bottom: 0.4em;background-color: white;}#sk-container-id-4 div.sk-label label {font-family: monospace;font-weight: bold;display: inline-block;line-height: 1.2em;}#sk-container-id-4 div.sk-label-container {text-align: center;}#sk-container-id-4 div.sk-container {/* jupyter's `normalize.less` sets `[hidden] { display: none; }` but bootstrap.min.css set `[hidden] { display: none !important; }` so we also need the `!important` here to be able to override the default hidden behavior on the sphinx rendered scikit-learn.org. See: https://github.com/scikit-learn/scikit-learn/issues/21755 */display: inline-block !important;position: relative;}#sk-container-id-4 div.sk-text-repr-fallback {display: none;}</style><div id=\"sk-container-id-4\" class=\"sk-top-container\"><div class=\"sk-text-repr-fallback\"><pre>RandomizedSearchCV(cv=5,\n",
              "                   estimator=Pipeline(steps=[(&#x27;word2vec_transformer&#x27;,\n",
              "                                              Word2VecTransformer(word2vec_model=&lt;gensim.models.word2vec.Word2Vec object at 0x7888e817b760&gt;)),\n",
              "                                             (&#x27;smote&#x27;, SMOTE(random_state=42)),\n",
              "                                             (&#x27;classifier&#x27;,\n",
              "                                              LogisticRegression(max_iter=1000,\n",
              "                                                                 multi_class=&#x27;multinomial&#x27;))]),\n",
              "                   param_distributions={&#x27;classifier__C&#x27;: [0.01, 0.1, 1, 10,\n",
              "                                                          100],\n",
              "                                        &#x27;classifier__max_iter&#x27;: [1000, 1500],\n",
              "                                        &#x27;classifier__solver&#x27;: [&#x27;lbfgs&#x27;]},\n",
              "                   random_state=42, scoring=&#x27;f1_macro&#x27;)</pre><b>In a Jupyter environment, please rerun this cell to show the HTML representation or trust the notebook. <br />On GitHub, the HTML representation is unable to render, please try loading this page with nbviewer.org.</b></div><div class=\"sk-container\" hidden><div class=\"sk-item sk-dashed-wrapped\"><div class=\"sk-label-container\"><div class=\"sk-label sk-toggleable\"><input class=\"sk-toggleable__control sk-hidden--visually\" id=\"sk-estimator-id-15\" type=\"checkbox\" ><label for=\"sk-estimator-id-15\" class=\"sk-toggleable__label sk-toggleable__label-arrow\">RandomizedSearchCV</label><div class=\"sk-toggleable__content\"><pre>RandomizedSearchCV(cv=5,\n",
              "                   estimator=Pipeline(steps=[(&#x27;word2vec_transformer&#x27;,\n",
              "                                              Word2VecTransformer(word2vec_model=&lt;gensim.models.word2vec.Word2Vec object at 0x7888e817b760&gt;)),\n",
              "                                             (&#x27;smote&#x27;, SMOTE(random_state=42)),\n",
              "                                             (&#x27;classifier&#x27;,\n",
              "                                              LogisticRegression(max_iter=1000,\n",
              "                                                                 multi_class=&#x27;multinomial&#x27;))]),\n",
              "                   param_distributions={&#x27;classifier__C&#x27;: [0.01, 0.1, 1, 10,\n",
              "                                                          100],\n",
              "                                        &#x27;classifier__max_iter&#x27;: [1000, 1500],\n",
              "                                        &#x27;classifier__solver&#x27;: [&#x27;lbfgs&#x27;]},\n",
              "                   random_state=42, scoring=&#x27;f1_macro&#x27;)</pre></div></div></div><div class=\"sk-parallel\"><div class=\"sk-parallel-item\"><div class=\"sk-item\"><div class=\"sk-label-container\"><div class=\"sk-label sk-toggleable\"><input class=\"sk-toggleable__control sk-hidden--visually\" id=\"sk-estimator-id-16\" type=\"checkbox\" ><label for=\"sk-estimator-id-16\" class=\"sk-toggleable__label sk-toggleable__label-arrow\">estimator: Pipeline</label><div class=\"sk-toggleable__content\"><pre>Pipeline(steps=[(&#x27;word2vec_transformer&#x27;,\n",
              "                 Word2VecTransformer(word2vec_model=&lt;gensim.models.word2vec.Word2Vec object at 0x7888e817b760&gt;)),\n",
              "                (&#x27;smote&#x27;, SMOTE(random_state=42)),\n",
              "                (&#x27;classifier&#x27;,\n",
              "                 LogisticRegression(max_iter=1000, multi_class=&#x27;multinomial&#x27;))])</pre></div></div></div><div class=\"sk-serial\"><div class=\"sk-item\"><div class=\"sk-serial\"><div class=\"sk-item\"><div class=\"sk-estimator sk-toggleable\"><input class=\"sk-toggleable__control sk-hidden--visually\" id=\"sk-estimator-id-17\" type=\"checkbox\" ><label for=\"sk-estimator-id-17\" class=\"sk-toggleable__label sk-toggleable__label-arrow\">Word2VecTransformer</label><div class=\"sk-toggleable__content\"><pre>Word2VecTransformer(word2vec_model=&lt;gensim.models.word2vec.Word2Vec object at 0x7888e817b760&gt;)</pre></div></div></div><div class=\"sk-item\"><div class=\"sk-estimator sk-toggleable\"><input class=\"sk-toggleable__control sk-hidden--visually\" id=\"sk-estimator-id-18\" type=\"checkbox\" ><label for=\"sk-estimator-id-18\" class=\"sk-toggleable__label sk-toggleable__label-arrow\">SMOTE</label><div class=\"sk-toggleable__content\"><pre>SMOTE(random_state=42)</pre></div></div></div><div class=\"sk-item\"><div class=\"sk-estimator sk-toggleable\"><input class=\"sk-toggleable__control sk-hidden--visually\" id=\"sk-estimator-id-19\" type=\"checkbox\" ><label for=\"sk-estimator-id-19\" class=\"sk-toggleable__label sk-toggleable__label-arrow\">LogisticRegression</label><div class=\"sk-toggleable__content\"><pre>LogisticRegression(max_iter=1000, multi_class=&#x27;multinomial&#x27;)</pre></div></div></div></div></div></div></div></div></div></div></div></div>"
            ]
          },
          "metadata": {},
          "execution_count": 23
        }
      ]
    },
    {
      "cell_type": "code",
      "source": [
        "# Print the best hyperparameters found\n",
        "print(\"Best Hyperparameters:\", random_search.best_params_)"
      ],
      "metadata": {
        "colab": {
          "base_uri": "https://localhost:8080/"
        },
        "id": "_I2cDpIc__-A",
        "outputId": "ccabbca1-001f-441f-d350-f9fd746dffc0"
      },
      "execution_count": null,
      "outputs": [
        {
          "output_type": "stream",
          "name": "stdout",
          "text": [
            "Best Hyperparameters: {'classifier__solver': 'lbfgs', 'classifier__max_iter': 1000, 'classifier__C': 100}\n"
          ]
        }
      ]
    },
    {
      "cell_type": "code",
      "source": [
        "# Apply cross-validation to the entire training set using the best pipeline\n",
        "cv_scores = cross_val_score(random_search.best_estimator_, X_train, y_train, cv=5, scoring='f1_macro')"
      ],
      "metadata": {
        "id": "p9gLhrhMADOp"
      },
      "execution_count": null,
      "outputs": []
    },
    {
      "cell_type": "code",
      "source": [
        "# Print the cross-validation scores\n",
        "print(\"Cross-Validation Scores:\", cv_scores)\n",
        "print(\"Mean CV F1 Score:\", cv_scores.mean())\n"
      ],
      "metadata": {
        "colab": {
          "base_uri": "https://localhost:8080/"
        },
        "id": "FiGSlzwsAEIb",
        "outputId": "a2999318-1c58-4384-c8a1-e339f9fa953a"
      },
      "execution_count": null,
      "outputs": [
        {
          "output_type": "stream",
          "name": "stdout",
          "text": [
            "Cross-Validation Scores: [0.10828554 0.12634774 0.12623642 0.13570348 0.15668283]\n",
            "Mean CV F1 Score: 0.13065120050062634\n"
          ]
        }
      ]
    },
    {
      "cell_type": "code",
      "source": [
        "# Use the best model to predict on the test set\n",
        "best_model = random_search.best_estimator_\n",
        "test_predictions = best_model.predict(X_test)\n"
      ],
      "metadata": {
        "id": "q_PZ1tg9_NWF"
      },
      "execution_count": null,
      "outputs": []
    },
    {
      "cell_type": "code",
      "source": [
        "# Print out the classification report for the test set\n",
        "print(\"Test Set Classification Report:\")\n",
        "print(classification_report(y_test, test_predictions, target_names=label_encoder.classes_))"
      ],
      "metadata": {
        "colab": {
          "base_uri": "https://localhost:8080/"
        },
        "id": "qfhG1spHAJ_8",
        "outputId": "efc0bc6d-b12c-4b9d-91b0-d374c038690a"
      },
      "execution_count": null,
      "outputs": [
        {
          "output_type": "stream",
          "name": "stdout",
          "text": [
            "Test Set Classification Report:\n",
            "                           precision    recall  f1-score   support\n",
            "\n",
            " appeal_to_fear_prejudice       0.10      0.09      0.10        43\n",
            "causal_oversimplification       0.08      0.16      0.11        31\n",
            "                    doubt       0.16      0.26      0.20        38\n",
            "exaggeration,minimisation       0.03      0.04      0.03        28\n",
            "              flag_waving       0.19      0.44      0.26        39\n",
            "          loaded_language       0.00      0.00      0.00        37\n",
            "    name_calling,labeling       0.12      0.29      0.17        31\n",
            "           not_propaganda       0.65      0.25      0.36       301\n",
            "               repetition       0.04      0.06      0.05        32\n",
            "\n",
            "                 accuracy                           0.21       580\n",
            "                macro avg       0.15      0.18      0.14       580\n",
            "             weighted avg       0.38      0.21      0.24       580\n",
            "\n"
          ]
        }
      ]
    },
    {
      "cell_type": "markdown",
      "source": [
        "Result Without Cross Validation"
      ],
      "metadata": {
        "id": "R6Z3b1RFALC7"
      }
    },
    {
      "cell_type": "code",
      "source": [
        "# Print out the classification report\n",
        "print(classification_report(y_test, predictions, target_names=label_encoder.classes_))"
      ],
      "metadata": {
        "colab": {
          "base_uri": "https://localhost:8080/"
        },
        "id": "m8lqAfVV_NHH",
        "outputId": "4e4591dc-c1ad-4936-b82a-639029a2addc"
      },
      "execution_count": null,
      "outputs": [
        {
          "output_type": "stream",
          "name": "stdout",
          "text": [
            "                           precision    recall  f1-score   support\n",
            "\n",
            " appeal_to_fear_prejudice       0.50      0.02      0.04        43\n",
            "causal_oversimplification       0.10      0.42      0.16        31\n",
            "                    doubt       0.14      0.29      0.19        38\n",
            "exaggeration,minimisation       0.67      0.07      0.13        28\n",
            "              flag_waving       0.10      0.10      0.10        39\n",
            "          loaded_language       0.00      0.00      0.00        37\n",
            "    name_calling,labeling       0.06      0.16      0.09        31\n",
            "           not_propaganda       0.58      0.45      0.51       301\n",
            "               repetition       0.12      0.03      0.05        32\n",
            "\n",
            "                 accuracy                           0.30       580\n",
            "                macro avg       0.25      0.17      0.14       580\n",
            "             weighted avg       0.40      0.30      0.31       580\n",
            "\n"
          ]
        }
      ]
    }
  ]
}