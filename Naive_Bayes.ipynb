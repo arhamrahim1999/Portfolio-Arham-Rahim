{
  "cells": [
    {
      "cell_type": "code",
      "execution_count": null,
      "metadata": {
        "colab": {
          "base_uri": "https://localhost:8080/"
        },
        "id": "rbOvUX0aPdeS",
        "outputId": "c3558942-ea3e-4196-fb89-50cfb978eab0"
      },
      "outputs": [
        {
          "output_type": "stream",
          "name": "stdout",
          "text": [
            "Requirement already satisfied: nltk in /usr/local/lib/python3.10/dist-packages (3.8.1)\n",
            "Requirement already satisfied: spacy in /usr/local/lib/python3.10/dist-packages (3.7.4)\n",
            "Requirement already satisfied: scikit-learn in /usr/local/lib/python3.10/dist-packages (1.2.2)\n",
            "Requirement already satisfied: click in /usr/local/lib/python3.10/dist-packages (from nltk) (8.1.7)\n",
            "Requirement already satisfied: joblib in /usr/local/lib/python3.10/dist-packages (from nltk) (1.4.2)\n",
            "Requirement already satisfied: regex>=2021.8.3 in /usr/local/lib/python3.10/dist-packages (from nltk) (2023.12.25)\n",
            "Requirement already satisfied: tqdm in /usr/local/lib/python3.10/dist-packages (from nltk) (4.66.4)\n",
            "Requirement already satisfied: spacy-legacy<3.1.0,>=3.0.11 in /usr/local/lib/python3.10/dist-packages (from spacy) (3.0.12)\n",
            "Requirement already satisfied: spacy-loggers<2.0.0,>=1.0.0 in /usr/local/lib/python3.10/dist-packages (from spacy) (1.0.5)\n",
            "Requirement already satisfied: murmurhash<1.1.0,>=0.28.0 in /usr/local/lib/python3.10/dist-packages (from spacy) (1.0.10)\n",
            "Requirement already satisfied: cymem<2.1.0,>=2.0.2 in /usr/local/lib/python3.10/dist-packages (from spacy) (2.0.8)\n",
            "Requirement already satisfied: preshed<3.1.0,>=3.0.2 in /usr/local/lib/python3.10/dist-packages (from spacy) (3.0.9)\n",
            "Requirement already satisfied: thinc<8.3.0,>=8.2.2 in /usr/local/lib/python3.10/dist-packages (from spacy) (8.2.3)\n",
            "Requirement already satisfied: wasabi<1.2.0,>=0.9.1 in /usr/local/lib/python3.10/dist-packages (from spacy) (1.1.2)\n",
            "Requirement already satisfied: srsly<3.0.0,>=2.4.3 in /usr/local/lib/python3.10/dist-packages (from spacy) (2.4.8)\n",
            "Requirement already satisfied: catalogue<2.1.0,>=2.0.6 in /usr/local/lib/python3.10/dist-packages (from spacy) (2.0.10)\n",
            "Requirement already satisfied: weasel<0.4.0,>=0.1.0 in /usr/local/lib/python3.10/dist-packages (from spacy) (0.3.4)\n",
            "Requirement already satisfied: typer<0.10.0,>=0.3.0 in /usr/local/lib/python3.10/dist-packages (from spacy) (0.9.4)\n",
            "Requirement already satisfied: smart-open<7.0.0,>=5.2.1 in /usr/local/lib/python3.10/dist-packages (from spacy) (6.4.0)\n",
            "Requirement already satisfied: requests<3.0.0,>=2.13.0 in /usr/local/lib/python3.10/dist-packages (from spacy) (2.31.0)\n",
            "Requirement already satisfied: pydantic!=1.8,!=1.8.1,<3.0.0,>=1.7.4 in /usr/local/lib/python3.10/dist-packages (from spacy) (2.7.1)\n",
            "Requirement already satisfied: jinja2 in /usr/local/lib/python3.10/dist-packages (from spacy) (3.1.4)\n",
            "Requirement already satisfied: setuptools in /usr/local/lib/python3.10/dist-packages (from spacy) (67.7.2)\n",
            "Requirement already satisfied: packaging>=20.0 in /usr/local/lib/python3.10/dist-packages (from spacy) (24.0)\n",
            "Requirement already satisfied: langcodes<4.0.0,>=3.2.0 in /usr/local/lib/python3.10/dist-packages (from spacy) (3.4.0)\n",
            "Requirement already satisfied: numpy>=1.19.0 in /usr/local/lib/python3.10/dist-packages (from spacy) (1.25.2)\n",
            "Requirement already satisfied: scipy>=1.3.2 in /usr/local/lib/python3.10/dist-packages (from scikit-learn) (1.11.4)\n",
            "Requirement already satisfied: threadpoolctl>=2.0.0 in /usr/local/lib/python3.10/dist-packages (from scikit-learn) (3.5.0)\n",
            "Requirement already satisfied: language-data>=1.2 in /usr/local/lib/python3.10/dist-packages (from langcodes<4.0.0,>=3.2.0->spacy) (1.2.0)\n",
            "Requirement already satisfied: annotated-types>=0.4.0 in /usr/local/lib/python3.10/dist-packages (from pydantic!=1.8,!=1.8.1,<3.0.0,>=1.7.4->spacy) (0.6.0)\n",
            "Requirement already satisfied: pydantic-core==2.18.2 in /usr/local/lib/python3.10/dist-packages (from pydantic!=1.8,!=1.8.1,<3.0.0,>=1.7.4->spacy) (2.18.2)\n",
            "Requirement already satisfied: typing-extensions>=4.6.1 in /usr/local/lib/python3.10/dist-packages (from pydantic!=1.8,!=1.8.1,<3.0.0,>=1.7.4->spacy) (4.11.0)\n",
            "Requirement already satisfied: charset-normalizer<4,>=2 in /usr/local/lib/python3.10/dist-packages (from requests<3.0.0,>=2.13.0->spacy) (3.3.2)\n",
            "Requirement already satisfied: idna<4,>=2.5 in /usr/local/lib/python3.10/dist-packages (from requests<3.0.0,>=2.13.0->spacy) (3.7)\n",
            "Requirement already satisfied: urllib3<3,>=1.21.1 in /usr/local/lib/python3.10/dist-packages (from requests<3.0.0,>=2.13.0->spacy) (2.0.7)\n",
            "Requirement already satisfied: certifi>=2017.4.17 in /usr/local/lib/python3.10/dist-packages (from requests<3.0.0,>=2.13.0->spacy) (2024.2.2)\n",
            "Requirement already satisfied: blis<0.8.0,>=0.7.8 in /usr/local/lib/python3.10/dist-packages (from thinc<8.3.0,>=8.2.2->spacy) (0.7.11)\n",
            "Requirement already satisfied: confection<1.0.0,>=0.0.1 in /usr/local/lib/python3.10/dist-packages (from thinc<8.3.0,>=8.2.2->spacy) (0.1.4)\n",
            "Requirement already satisfied: cloudpathlib<0.17.0,>=0.7.0 in /usr/local/lib/python3.10/dist-packages (from weasel<0.4.0,>=0.1.0->spacy) (0.16.0)\n",
            "Requirement already satisfied: MarkupSafe>=2.0 in /usr/local/lib/python3.10/dist-packages (from jinja2->spacy) (2.1.5)\n",
            "Requirement already satisfied: marisa-trie>=0.7.7 in /usr/local/lib/python3.10/dist-packages (from language-data>=1.2->langcodes<4.0.0,>=3.2.0->spacy) (1.1.1)\n",
            "Collecting en-core-web-sm==3.7.1\n",
            "  Downloading https://github.com/explosion/spacy-models/releases/download/en_core_web_sm-3.7.1/en_core_web_sm-3.7.1-py3-none-any.whl (12.8 MB)\n",
            "\u001b[2K     \u001b[90m━━━━━━━━━━━━━━━━━━━━━━━━━━━━━━━━━━━━━━━━\u001b[0m \u001b[32m12.8/12.8 MB\u001b[0m \u001b[31m27.8 MB/s\u001b[0m eta \u001b[36m0:00:00\u001b[0m\n",
            "\u001b[?25hRequirement already satisfied: spacy<3.8.0,>=3.7.2 in /usr/local/lib/python3.10/dist-packages (from en-core-web-sm==3.7.1) (3.7.4)\n",
            "Requirement already satisfied: spacy-legacy<3.1.0,>=3.0.11 in /usr/local/lib/python3.10/dist-packages (from spacy<3.8.0,>=3.7.2->en-core-web-sm==3.7.1) (3.0.12)\n",
            "Requirement already satisfied: spacy-loggers<2.0.0,>=1.0.0 in /usr/local/lib/python3.10/dist-packages (from spacy<3.8.0,>=3.7.2->en-core-web-sm==3.7.1) (1.0.5)\n",
            "Requirement already satisfied: murmurhash<1.1.0,>=0.28.0 in /usr/local/lib/python3.10/dist-packages (from spacy<3.8.0,>=3.7.2->en-core-web-sm==3.7.1) (1.0.10)\n",
            "Requirement already satisfied: cymem<2.1.0,>=2.0.2 in /usr/local/lib/python3.10/dist-packages (from spacy<3.8.0,>=3.7.2->en-core-web-sm==3.7.1) (2.0.8)\n",
            "Requirement already satisfied: preshed<3.1.0,>=3.0.2 in /usr/local/lib/python3.10/dist-packages (from spacy<3.8.0,>=3.7.2->en-core-web-sm==3.7.1) (3.0.9)\n",
            "Requirement already satisfied: thinc<8.3.0,>=8.2.2 in /usr/local/lib/python3.10/dist-packages (from spacy<3.8.0,>=3.7.2->en-core-web-sm==3.7.1) (8.2.3)\n",
            "Requirement already satisfied: wasabi<1.2.0,>=0.9.1 in /usr/local/lib/python3.10/dist-packages (from spacy<3.8.0,>=3.7.2->en-core-web-sm==3.7.1) (1.1.2)\n",
            "Requirement already satisfied: srsly<3.0.0,>=2.4.3 in /usr/local/lib/python3.10/dist-packages (from spacy<3.8.0,>=3.7.2->en-core-web-sm==3.7.1) (2.4.8)\n",
            "Requirement already satisfied: catalogue<2.1.0,>=2.0.6 in /usr/local/lib/python3.10/dist-packages (from spacy<3.8.0,>=3.7.2->en-core-web-sm==3.7.1) (2.0.10)\n",
            "Requirement already satisfied: weasel<0.4.0,>=0.1.0 in /usr/local/lib/python3.10/dist-packages (from spacy<3.8.0,>=3.7.2->en-core-web-sm==3.7.1) (0.3.4)\n",
            "Requirement already satisfied: typer<0.10.0,>=0.3.0 in /usr/local/lib/python3.10/dist-packages (from spacy<3.8.0,>=3.7.2->en-core-web-sm==3.7.1) (0.9.4)\n",
            "Requirement already satisfied: smart-open<7.0.0,>=5.2.1 in /usr/local/lib/python3.10/dist-packages (from spacy<3.8.0,>=3.7.2->en-core-web-sm==3.7.1) (6.4.0)\n",
            "Requirement already satisfied: tqdm<5.0.0,>=4.38.0 in /usr/local/lib/python3.10/dist-packages (from spacy<3.8.0,>=3.7.2->en-core-web-sm==3.7.1) (4.66.4)\n",
            "Requirement already satisfied: requests<3.0.0,>=2.13.0 in /usr/local/lib/python3.10/dist-packages (from spacy<3.8.0,>=3.7.2->en-core-web-sm==3.7.1) (2.31.0)\n",
            "Requirement already satisfied: pydantic!=1.8,!=1.8.1,<3.0.0,>=1.7.4 in /usr/local/lib/python3.10/dist-packages (from spacy<3.8.0,>=3.7.2->en-core-web-sm==3.7.1) (2.7.1)\n",
            "Requirement already satisfied: jinja2 in /usr/local/lib/python3.10/dist-packages (from spacy<3.8.0,>=3.7.2->en-core-web-sm==3.7.1) (3.1.4)\n",
            "Requirement already satisfied: setuptools in /usr/local/lib/python3.10/dist-packages (from spacy<3.8.0,>=3.7.2->en-core-web-sm==3.7.1) (67.7.2)\n",
            "Requirement already satisfied: packaging>=20.0 in /usr/local/lib/python3.10/dist-packages (from spacy<3.8.0,>=3.7.2->en-core-web-sm==3.7.1) (24.0)\n",
            "Requirement already satisfied: langcodes<4.0.0,>=3.2.0 in /usr/local/lib/python3.10/dist-packages (from spacy<3.8.0,>=3.7.2->en-core-web-sm==3.7.1) (3.4.0)\n",
            "Requirement already satisfied: numpy>=1.19.0 in /usr/local/lib/python3.10/dist-packages (from spacy<3.8.0,>=3.7.2->en-core-web-sm==3.7.1) (1.25.2)\n",
            "Requirement already satisfied: language-data>=1.2 in /usr/local/lib/python3.10/dist-packages (from langcodes<4.0.0,>=3.2.0->spacy<3.8.0,>=3.7.2->en-core-web-sm==3.7.1) (1.2.0)\n",
            "Requirement already satisfied: annotated-types>=0.4.0 in /usr/local/lib/python3.10/dist-packages (from pydantic!=1.8,!=1.8.1,<3.0.0,>=1.7.4->spacy<3.8.0,>=3.7.2->en-core-web-sm==3.7.1) (0.6.0)\n",
            "Requirement already satisfied: pydantic-core==2.18.2 in /usr/local/lib/python3.10/dist-packages (from pydantic!=1.8,!=1.8.1,<3.0.0,>=1.7.4->spacy<3.8.0,>=3.7.2->en-core-web-sm==3.7.1) (2.18.2)\n",
            "Requirement already satisfied: typing-extensions>=4.6.1 in /usr/local/lib/python3.10/dist-packages (from pydantic!=1.8,!=1.8.1,<3.0.0,>=1.7.4->spacy<3.8.0,>=3.7.2->en-core-web-sm==3.7.1) (4.11.0)\n",
            "Requirement already satisfied: charset-normalizer<4,>=2 in /usr/local/lib/python3.10/dist-packages (from requests<3.0.0,>=2.13.0->spacy<3.8.0,>=3.7.2->en-core-web-sm==3.7.1) (3.3.2)\n",
            "Requirement already satisfied: idna<4,>=2.5 in /usr/local/lib/python3.10/dist-packages (from requests<3.0.0,>=2.13.0->spacy<3.8.0,>=3.7.2->en-core-web-sm==3.7.1) (3.7)\n",
            "Requirement already satisfied: urllib3<3,>=1.21.1 in /usr/local/lib/python3.10/dist-packages (from requests<3.0.0,>=2.13.0->spacy<3.8.0,>=3.7.2->en-core-web-sm==3.7.1) (2.0.7)\n",
            "Requirement already satisfied: certifi>=2017.4.17 in /usr/local/lib/python3.10/dist-packages (from requests<3.0.0,>=2.13.0->spacy<3.8.0,>=3.7.2->en-core-web-sm==3.7.1) (2024.2.2)\n",
            "Requirement already satisfied: blis<0.8.0,>=0.7.8 in /usr/local/lib/python3.10/dist-packages (from thinc<8.3.0,>=8.2.2->spacy<3.8.0,>=3.7.2->en-core-web-sm==3.7.1) (0.7.11)\n",
            "Requirement already satisfied: confection<1.0.0,>=0.0.1 in /usr/local/lib/python3.10/dist-packages (from thinc<8.3.0,>=8.2.2->spacy<3.8.0,>=3.7.2->en-core-web-sm==3.7.1) (0.1.4)\n",
            "Requirement already satisfied: click<9.0.0,>=7.1.1 in /usr/local/lib/python3.10/dist-packages (from typer<0.10.0,>=0.3.0->spacy<3.8.0,>=3.7.2->en-core-web-sm==3.7.1) (8.1.7)\n",
            "Requirement already satisfied: cloudpathlib<0.17.0,>=0.7.0 in /usr/local/lib/python3.10/dist-packages (from weasel<0.4.0,>=0.1.0->spacy<3.8.0,>=3.7.2->en-core-web-sm==3.7.1) (0.16.0)\n",
            "Requirement already satisfied: MarkupSafe>=2.0 in /usr/local/lib/python3.10/dist-packages (from jinja2->spacy<3.8.0,>=3.7.2->en-core-web-sm==3.7.1) (2.1.5)\n",
            "Requirement already satisfied: marisa-trie>=0.7.7 in /usr/local/lib/python3.10/dist-packages (from language-data>=1.2->langcodes<4.0.0,>=3.2.0->spacy<3.8.0,>=3.7.2->en-core-web-sm==3.7.1) (1.1.1)\n",
            "\u001b[38;5;2m✔ Download and installation successful\u001b[0m\n",
            "You can now load the package via spacy.load('en_core_web_sm')\n",
            "\u001b[38;5;3m⚠ Restart to reload dependencies\u001b[0m\n",
            "If you are in a Jupyter or Colab notebook, you may need to restart Python in\n",
            "order to load all the package's dependencies. You can do this by selecting the\n",
            "'Restart kernel' or 'Restart runtime' option.\n"
          ]
        },
        {
          "output_type": "stream",
          "name": "stderr",
          "text": [
            "[nltk_data] Downloading package stopwords to /root/nltk_data...\n",
            "[nltk_data]   Unzipping corpora/stopwords.zip.\n",
            "[nltk_data] Downloading package punkt to /root/nltk_data...\n",
            "[nltk_data]   Unzipping tokenizers/punkt.zip.\n"
          ]
        }
      ],
      "source": [
        "# Install necessary libraries\n",
        "!pip install nltk spacy scikit-learn\n",
        "!python -m spacy download en_core_web_sm\n",
        "\n",
        "import nltk\n",
        "from nltk.corpus import stopwords\n",
        "import spacy\n",
        "import string\n",
        "import pandas as pd\n",
        "from sklearn.model_selection import train_test_split, RandomizedSearchCV, cross_val_score\n",
        "from sklearn.feature_extraction.text import CountVectorizer, TfidfVectorizer\n",
        "from sklearn.pipeline import Pipeline\n",
        "from sklearn.base import BaseEstimator, TransformerMixin\n",
        "import re\n",
        "from sklearn.naive_bayes import MultinomialNB\n",
        "from sklearn.metrics import classification_report, confusion_matrix, ConfusionMatrixDisplay\n",
        "from sklearn.preprocessing import LabelEncoder\n",
        "from imblearn.over_sampling import SMOTE\n",
        "from imblearn.pipeline import Pipeline as ImbPipeline\n",
        "\n",
        "\n",
        "# Download the stopwords from NLTK\n",
        "nltk.download('stopwords')\n",
        "nltk.download('punkt')\n",
        "\n",
        "# Load the spaCy model for NER and POS tagging\n",
        "nlp = spacy.load('en_core_web_sm')\n"
      ]
    },
    {
      "cell_type": "code",
      "source": [
        "import matplotlib.pyplot as plt"
      ],
      "metadata": {
        "id": "rBAKHNdwCqMK"
      },
      "execution_count": null,
      "outputs": []
    },
    {
      "cell_type": "code",
      "execution_count": null,
      "metadata": {
        "colab": {
          "base_uri": "https://localhost:8080/",
          "height": 108
        },
        "id": "aFStatwPQBIq",
        "outputId": "b6b7b871-0ae3-4b52-baa2-c7097156a24b"
      },
      "outputs": [
        {
          "output_type": "display_data",
          "data": {
            "text/plain": [
              "<IPython.core.display.HTML object>"
            ],
            "text/html": [
              "\n",
              "     <input type=\"file\" id=\"files-c0221ded-e1a5-4553-babe-22010bcd9580\" name=\"files[]\" multiple disabled\n",
              "        style=\"border:none\" />\n",
              "     <output id=\"result-c0221ded-e1a5-4553-babe-22010bcd9580\">\n",
              "      Upload widget is only available when the cell has been executed in the\n",
              "      current browser session. Please rerun this cell to enable.\n",
              "      </output>\n",
              "      <script>// Copyright 2017 Google LLC\n",
              "//\n",
              "// Licensed under the Apache License, Version 2.0 (the \"License\");\n",
              "// you may not use this file except in compliance with the License.\n",
              "// You may obtain a copy of the License at\n",
              "//\n",
              "//      http://www.apache.org/licenses/LICENSE-2.0\n",
              "//\n",
              "// Unless required by applicable law or agreed to in writing, software\n",
              "// distributed under the License is distributed on an \"AS IS\" BASIS,\n",
              "// WITHOUT WARRANTIES OR CONDITIONS OF ANY KIND, either express or implied.\n",
              "// See the License for the specific language governing permissions and\n",
              "// limitations under the License.\n",
              "\n",
              "/**\n",
              " * @fileoverview Helpers for google.colab Python module.\n",
              " */\n",
              "(function(scope) {\n",
              "function span(text, styleAttributes = {}) {\n",
              "  const element = document.createElement('span');\n",
              "  element.textContent = text;\n",
              "  for (const key of Object.keys(styleAttributes)) {\n",
              "    element.style[key] = styleAttributes[key];\n",
              "  }\n",
              "  return element;\n",
              "}\n",
              "\n",
              "// Max number of bytes which will be uploaded at a time.\n",
              "const MAX_PAYLOAD_SIZE = 100 * 1024;\n",
              "\n",
              "function _uploadFiles(inputId, outputId) {\n",
              "  const steps = uploadFilesStep(inputId, outputId);\n",
              "  const outputElement = document.getElementById(outputId);\n",
              "  // Cache steps on the outputElement to make it available for the next call\n",
              "  // to uploadFilesContinue from Python.\n",
              "  outputElement.steps = steps;\n",
              "\n",
              "  return _uploadFilesContinue(outputId);\n",
              "}\n",
              "\n",
              "// This is roughly an async generator (not supported in the browser yet),\n",
              "// where there are multiple asynchronous steps and the Python side is going\n",
              "// to poll for completion of each step.\n",
              "// This uses a Promise to block the python side on completion of each step,\n",
              "// then passes the result of the previous step as the input to the next step.\n",
              "function _uploadFilesContinue(outputId) {\n",
              "  const outputElement = document.getElementById(outputId);\n",
              "  const steps = outputElement.steps;\n",
              "\n",
              "  const next = steps.next(outputElement.lastPromiseValue);\n",
              "  return Promise.resolve(next.value.promise).then((value) => {\n",
              "    // Cache the last promise value to make it available to the next\n",
              "    // step of the generator.\n",
              "    outputElement.lastPromiseValue = value;\n",
              "    return next.value.response;\n",
              "  });\n",
              "}\n",
              "\n",
              "/**\n",
              " * Generator function which is called between each async step of the upload\n",
              " * process.\n",
              " * @param {string} inputId Element ID of the input file picker element.\n",
              " * @param {string} outputId Element ID of the output display.\n",
              " * @return {!Iterable<!Object>} Iterable of next steps.\n",
              " */\n",
              "function* uploadFilesStep(inputId, outputId) {\n",
              "  const inputElement = document.getElementById(inputId);\n",
              "  inputElement.disabled = false;\n",
              "\n",
              "  const outputElement = document.getElementById(outputId);\n",
              "  outputElement.innerHTML = '';\n",
              "\n",
              "  const pickedPromise = new Promise((resolve) => {\n",
              "    inputElement.addEventListener('change', (e) => {\n",
              "      resolve(e.target.files);\n",
              "    });\n",
              "  });\n",
              "\n",
              "  const cancel = document.createElement('button');\n",
              "  inputElement.parentElement.appendChild(cancel);\n",
              "  cancel.textContent = 'Cancel upload';\n",
              "  const cancelPromise = new Promise((resolve) => {\n",
              "    cancel.onclick = () => {\n",
              "      resolve(null);\n",
              "    };\n",
              "  });\n",
              "\n",
              "  // Wait for the user to pick the files.\n",
              "  const files = yield {\n",
              "    promise: Promise.race([pickedPromise, cancelPromise]),\n",
              "    response: {\n",
              "      action: 'starting',\n",
              "    }\n",
              "  };\n",
              "\n",
              "  cancel.remove();\n",
              "\n",
              "  // Disable the input element since further picks are not allowed.\n",
              "  inputElement.disabled = true;\n",
              "\n",
              "  if (!files) {\n",
              "    return {\n",
              "      response: {\n",
              "        action: 'complete',\n",
              "      }\n",
              "    };\n",
              "  }\n",
              "\n",
              "  for (const file of files) {\n",
              "    const li = document.createElement('li');\n",
              "    li.append(span(file.name, {fontWeight: 'bold'}));\n",
              "    li.append(span(\n",
              "        `(${file.type || 'n/a'}) - ${file.size} bytes, ` +\n",
              "        `last modified: ${\n",
              "            file.lastModifiedDate ? file.lastModifiedDate.toLocaleDateString() :\n",
              "                                    'n/a'} - `));\n",
              "    const percent = span('0% done');\n",
              "    li.appendChild(percent);\n",
              "\n",
              "    outputElement.appendChild(li);\n",
              "\n",
              "    const fileDataPromise = new Promise((resolve) => {\n",
              "      const reader = new FileReader();\n",
              "      reader.onload = (e) => {\n",
              "        resolve(e.target.result);\n",
              "      };\n",
              "      reader.readAsArrayBuffer(file);\n",
              "    });\n",
              "    // Wait for the data to be ready.\n",
              "    let fileData = yield {\n",
              "      promise: fileDataPromise,\n",
              "      response: {\n",
              "        action: 'continue',\n",
              "      }\n",
              "    };\n",
              "\n",
              "    // Use a chunked sending to avoid message size limits. See b/62115660.\n",
              "    let position = 0;\n",
              "    do {\n",
              "      const length = Math.min(fileData.byteLength - position, MAX_PAYLOAD_SIZE);\n",
              "      const chunk = new Uint8Array(fileData, position, length);\n",
              "      position += length;\n",
              "\n",
              "      const base64 = btoa(String.fromCharCode.apply(null, chunk));\n",
              "      yield {\n",
              "        response: {\n",
              "          action: 'append',\n",
              "          file: file.name,\n",
              "          data: base64,\n",
              "        },\n",
              "      };\n",
              "\n",
              "      let percentDone = fileData.byteLength === 0 ?\n",
              "          100 :\n",
              "          Math.round((position / fileData.byteLength) * 100);\n",
              "      percent.textContent = `${percentDone}% done`;\n",
              "\n",
              "    } while (position < fileData.byteLength);\n",
              "  }\n",
              "\n",
              "  // All done.\n",
              "  yield {\n",
              "    response: {\n",
              "      action: 'complete',\n",
              "    }\n",
              "  };\n",
              "}\n",
              "\n",
              "scope.google = scope.google || {};\n",
              "scope.google.colab = scope.google.colab || {};\n",
              "scope.google.colab._files = {\n",
              "  _uploadFiles,\n",
              "  _uploadFilesContinue,\n",
              "};\n",
              "})(self);\n",
              "</script> "
            ]
          },
          "metadata": {}
        },
        {
          "output_type": "stream",
          "name": "stdout",
          "text": [
            "Saving propaganda_train.tsv to propaganda_train.tsv\n",
            "Saving propaganda_val.tsv to propaganda_val.tsv\n"
          ]
        }
      ],
      "source": [
        "# Upload datasets\n",
        "from google.colab import files\n",
        "\n",
        "# Prompt to upload the unzipped file\n",
        "uploaded = files.upload()\n",
        "\n",
        "# Load the training data\n",
        "train_data = pd.read_csv('propaganda_train.tsv', sep='\\t', header=None, names=['label', 'sentence'])\n",
        "\n",
        "# Load the testing data\n",
        "test_data = pd.read_csv('propaganda_val.tsv', sep='\\t', header=None, names=['label', 'sentence'])"
      ]
    },
    {
      "cell_type": "code",
      "execution_count": null,
      "metadata": {
        "id": "ZbHifQtXV1YO"
      },
      "outputs": [],
      "source": [
        "# Remove the first row of both training and testing data\n",
        "train_data = train_data.drop(0).reset_index(drop=True)\n",
        "test_data = test_data.drop(0).reset_index(drop=True)"
      ]
    },
    {
      "cell_type": "code",
      "execution_count": null,
      "metadata": {
        "colab": {
          "base_uri": "https://localhost:8080/"
        },
        "id": "3NMo7-5fQFt8",
        "outputId": "733ec3d7-b68d-4c09-94fd-bd5231d27483"
      },
      "outputs": [
        {
          "output_type": "stream",
          "name": "stdout",
          "text": [
            "Training Data:\n",
            "             label                                           sentence\n",
            "0   not_propaganda         No, <BOS> he <EOS> will not be confirmed. \n",
            "1   not_propaganda  This declassification effort <BOS> won’t make ...\n",
            "2      flag_waving  The Obama administration misled the <BOS> Amer...\n",
            "3   not_propaganda  “It looks like we’re capturing the demise of t...\n",
            "4   not_propaganda           <BOS> Location: Westerville, Ohio <EOS> \n",
            "5  loaded_language  Hitler <BOS> annihilated <EOS> 400,000 Germans...\n",
            "6   not_propaganda  A federal judge on Monday ordered U.S. immigra...\n",
            "7   not_propaganda  <BOS> Kirstjen Nielsen (@SecNielsen) <EOS> Nov...\n",
            "8            doubt  As noted above, at this point literally every ...\n",
            "9   not_propaganda  Britain doesn't need more hate even just for a...\n"
          ]
        }
      ],
      "source": [
        "# Display the first few rows of the training data\n",
        "print(\"Training Data:\")\n",
        "print(train_data.head(10))"
      ]
    },
    {
      "cell_type": "code",
      "execution_count": null,
      "metadata": {
        "colab": {
          "base_uri": "https://localhost:8080/"
        },
        "id": "9ebvE82eQHjo",
        "outputId": "b3e1d620-4e85-49b9-934c-ba1d61d6d6d3"
      },
      "outputs": [
        {
          "output_type": "stream",
          "name": "stdout",
          "text": [
            "\n",
            "Testing Data:\n",
            "                       label  \\\n",
            "0             not_propaganda   \n",
            "1  causal_oversimplification   \n",
            "2   appeal_to_fear_prejudice   \n",
            "3             not_propaganda   \n",
            "4                 repetition   \n",
            "5      name_calling,labeling   \n",
            "6            loaded_language   \n",
            "7             not_propaganda   \n",
            "8                flag_waving   \n",
            "9                      doubt   \n",
            "\n",
            "                                            sentence  \n",
            "0  On average, between 300 and 600 infections are...  \n",
            "1  Mostly because <BOS> the country would not las...  \n",
            "2  Lyndon Johnson <BOS> gets Earl Warren and Sen....  \n",
            "3           <BOS> You <EOS> may opt out at anytime.   \n",
            "4  It must be exacted from him directly in order ...  \n",
            "5  Is it any wonder that priests and laity alike ...  \n",
            "6  Health workers have been asked to work with co...  \n",
            "7       The Best of <BOS> Jacob <EOS> G. Hornberger   \n",
            "8  Trump began his remarks by setting out <BOS> I...  \n",
            "9  <BOS> Now, the pope’s reply to my testimony wa...  \n"
          ]
        }
      ],
      "source": [
        "# Display the first few rows of the testing data\n",
        "print(\"\\nTesting Data:\")\n",
        "print(test_data.head(10))"
      ]
    },
    {
      "cell_type": "code",
      "execution_count": null,
      "metadata": {
        "id": "X8GUZ3cOQJ5p"
      },
      "outputs": [],
      "source": [
        "# Convert labels to binary: 'propaganda' or 'not_propaganda'\n",
        "train_data['binary_label'] = train_data['label'].apply(lambda x: 'not_propaganda' if x == 'not_propaganda' else 'propaganda')\n",
        "test_data['binary_label'] = test_data['label'].apply(lambda x: 'not_propaganda' if x == 'not_propaganda' else 'propaganda')"
      ]
    },
    {
      "cell_type": "code",
      "execution_count": null,
      "metadata": {
        "id": "ZlBuwrmIQM1C"
      },
      "outputs": [],
      "source": [
        "# Custom transformer for text preprocessing\n",
        "class TextPreprocessor(BaseEstimator, TransformerMixin):\n",
        "    def __init__(self):\n",
        "        self.stop_words = set(stopwords.words('english'))\n",
        "        self.punctuation = set(string.punctuation)\n",
        "\n",
        "    def fit(self, X, y=None):\n",
        "        return self\n",
        "\n",
        "    def transform(self, X, y=None):\n",
        "        return X.apply(self._preprocess)\n",
        "\n",
        "    def _preprocess(self, text):\n",
        "        # Lowercasing\n",
        "        text = text.lower()\n",
        "\n",
        "        # Remove <BOS> and <EOS> tokens\n",
        "        text = re.sub('<BOS>|<EOS>', '', text)\n",
        "\n",
        "        # Apply spaCy pipeline\n",
        "        doc = nlp(text)\n",
        "\n",
        "        # Remove stopwords and punctuation, and retain only relevant words (nouns, verbs, adjectives, etc.)\n",
        "        words = [\n",
        "            f\"{token.text}_{token.pos_}\" for token in doc\n",
        "            if token.pos_ in {'NOUN', 'VERB', 'ADJ', 'ADV'}\n",
        "            and token.text.lower() not in self.stop_words\n",
        "            and token.text not in self.punctuation\n",
        "        ]\n",
        "\n",
        "        # Include named entities in the text\n",
        "        entities = [f\"{ent.text}_ENTITY\" for ent in doc.ents]\n",
        "\n",
        "        # Combine words and entities\n",
        "        processed_text = words + entities\n",
        "\n",
        "        # Return preprocessed text\n",
        "        return ' '.join(processed_text)"
      ]
    },
    {
      "cell_type": "code",
      "execution_count": null,
      "metadata": {
        "id": "5PRTuEaWQRp1"
      },
      "outputs": [],
      "source": [
        "# Initialize the text preprocessor\n",
        "text_preprocessor = TextPreprocessor()\n",
        "\n",
        "# Apply text preprocessing to the training and testing data\n",
        "train_data['cleaned_sentence'] = text_preprocessor.transform(train_data['sentence'])\n",
        "test_data['cleaned_sentence'] = text_preprocessor.transform(test_data['sentence'])"
      ]
    },
    {
      "cell_type": "code",
      "execution_count": null,
      "metadata": {
        "colab": {
          "base_uri": "https://localhost:8080/"
        },
        "id": "UgEvv6yAUnGe",
        "outputId": "9ab946e3-1274-4d11-9eef-b4066bbad079"
      },
      "outputs": [
        {
          "output_type": "stream",
          "name": "stdout",
          "text": [
            "\n",
            "Training Data with Cleaned Sentences:\n",
            "             label                                           sentence  \\\n",
            "0   not_propaganda         No, <BOS> he <EOS> will not be confirmed.    \n",
            "1   not_propaganda  This declassification effort <BOS> won’t make ...   \n",
            "2      flag_waving  The Obama administration misled the <BOS> Amer...   \n",
            "3   not_propaganda  “It looks like we’re capturing the demise of t...   \n",
            "4   not_propaganda           <BOS> Location: Westerville, Ohio <EOS>    \n",
            "5  loaded_language  Hitler <BOS> annihilated <EOS> 400,000 Germans...   \n",
            "6   not_propaganda  A federal judge on Monday ordered U.S. immigra...   \n",
            "7   not_propaganda  <BOS> Kirstjen Nielsen (@SecNielsen) <EOS> Nov...   \n",
            "8            doubt  As noted above, at this point literally every ...   \n",
            "9   not_propaganda  Britain doesn't need more hate even just for a...   \n",
            "\n",
            "     binary_label                                   cleaned_sentence  \n",
            "0  not_propaganda                                     confirmed_VERB  \n",
            "1  not_propaganda  declassification_NOUN effort_NOUN make_VERB th...  \n",
            "2      propaganda  administration_NOUN misled_VERB people_NOUN de...  \n",
            "3  not_propaganda  looks_VERB capturing_VERB demise_NOUN dark_ADJ...  \n",
            "4  not_propaganda                                        ohio_ENTITY  \n",
            "5      propaganda  annihilated_VERB germans_NOUN handicapped_VERB...  \n",
            "6  not_propaganda  federal_ADJ judge_NOUN ordered_VERB immigratio...  \n",
            "7  not_propaganda   kirstjen nielsen_ENTITY november 19, 2018_ENTITY  \n",
            "8      propaganda  noted_VERB point_NOUN literally_ADV piece_NOUN...  \n",
            "9  not_propaganda  need_VERB hate_NOUN even_ADV bos_NOUN days_NOU...  \n",
            "Index(['label', 'sentence', 'binary_label', 'cleaned_sentence'], dtype='object')\n",
            "\n",
            "Testing Data with Cleaned Sentences:\n",
            "                       label  \\\n",
            "0             not_propaganda   \n",
            "1  causal_oversimplification   \n",
            "2   appeal_to_fear_prejudice   \n",
            "3             not_propaganda   \n",
            "4                 repetition   \n",
            "5      name_calling,labeling   \n",
            "6            loaded_language   \n",
            "7             not_propaganda   \n",
            "8                flag_waving   \n",
            "9                      doubt   \n",
            "\n",
            "                                            sentence    binary_label  \\\n",
            "0  On average, between 300 and 600 infections are...  not_propaganda   \n",
            "1  Mostly because <BOS> the country would not las...      propaganda   \n",
            "2  Lyndon Johnson <BOS> gets Earl Warren and Sen....      propaganda   \n",
            "3           <BOS> You <EOS> may opt out at anytime.   not_propaganda   \n",
            "4  It must be exacted from him directly in order ...      propaganda   \n",
            "5  Is it any wonder that priests and laity alike ...      propaganda   \n",
            "6  Health workers have been asked to work with co...      propaganda   \n",
            "7       The Best of <BOS> Jacob <EOS> G. Hornberger   not_propaganda   \n",
            "8  Trump began his remarks by setting out <BOS> I...      propaganda   \n",
            "9  <BOS> Now, the pope’s reply to my testimony wa...      propaganda   \n",
            "\n",
            "                                    cleaned_sentence  \n",
            "0  average_ADJ infections_NOUN recorded_VERB year...  \n",
            "1  mostly_ADV country_NOUN last_VERB long_ADV out...  \n",
            "2  gets_VERB join_VERB telling_VERB assassination...  \n",
            "3                               opt_VERB anytime_ADV  \n",
            "4  exacted_VERB directly_ADV order_NOUN vilify_VE...  \n",
            "5  wonder_NOUN priests_NOUN laity_NOUN alike_ADV ...  \n",
            "6  health_NOUN workers_NOUN asked_VERB work_VERB ...  \n",
            "7           best_ADJ eos_ENTITY g. hornberger_ENTITY  \n",
            "8  trump_NOUN began_VERB remarks_NOUN setting_VER...  \n",
            "9  pope_NOUN reply_NOUN testimony_NOUN say_VERB w...  \n",
            "Index(['label', 'sentence', 'binary_label', 'cleaned_sentence'], dtype='object')\n"
          ]
        }
      ],
      "source": [
        "# Verify the new columns\n",
        "print(\"\\nTraining Data with Cleaned Sentences:\")\n",
        "print(train_data.head(10))\n",
        "print(train_data.columns)\n",
        "\n",
        "print(\"\\nTesting Data with Cleaned Sentences:\")\n",
        "print(test_data.head(10))\n",
        "print(test_data.columns)"
      ]
    },
    {
      "cell_type": "code",
      "execution_count": null,
      "metadata": {
        "id": "p0HzuDLEuPJR"
      },
      "outputs": [],
      "source": [
        "# Define the hyperparameter grid for both CountVectorizer and TfidfVectorizer\n",
        "param_grid = {\n",
        "    'vectorizer__max_features': [1000, 5000, 10000],\n",
        "    'vectorizer__ngram_range': [(1, 1), (1, 2), (1, 3)],\n",
        "    'classifier__alpha': [0.1, 0.5, 1.0]\n",
        "}"
      ]
    },
    {
      "cell_type": "code",
      "execution_count": null,
      "metadata": {
        "id": "V1mWF4D7OCrr"
      },
      "outputs": [],
      "source": [
        "# Define a function to create a pipeline and perform hyperparameter tuning and evaluation\n",
        "def evaluate_model(vectorizer):\n",
        "    # Create a pipeline with SMOTE and Naive Bayes\n",
        "    pipeline = ImbPipeline(steps=[\n",
        "        ('preprocessor', text_preprocessor),\n",
        "        ('vectorizer', vectorizer),\n",
        "        ('smote', SMOTE(random_state=42)),\n",
        "        ('classifier', MultinomialNB())\n",
        "    ])\n",
        "\n",
        "    # Create RandomizedSearchCV object\n",
        "    random_search = RandomizedSearchCV(pipeline, param_distributions=param_grid, n_iter=10, scoring='accuracy', cv=5, random_state=42)\n",
        "\n",
        "    # Split the training data into training and testing sets\n",
        "    X_train, X_val, y_train, y_val = train_test_split(train_data['cleaned_sentence'], train_data['binary_label'], test_size=0.2, random_state=42)\n",
        "\n",
        "    # Fit RandomizedSearchCV to the training data\n",
        "    random_search.fit(X_train, y_train)\n",
        "\n",
        "    # Print the best hyperparameters found\n",
        "    print(f\"Best Hyperparameters for {vectorizer.__class__.__name__}:\", random_search.best_params_)\n",
        "\n",
        "    # Apply cross-validation to the entire training set using the best pipeline\n",
        "    cv_scores = cross_val_score(random_search.best_estimator_, train_data['cleaned_sentence'], train_data['binary_label'], cv=5, scoring='accuracy')\n",
        "\n",
        "    # Print the cross-validation scores\n",
        "    print(f\"Cross-Validation Scores for {vectorizer.__class__.__name__}:\", cv_scores)\n",
        "    print(f\"Mean CV Accuracy for {vectorizer.__class__.__name__}:\", cv_scores.mean())\n",
        "\n",
        "    # Predict the labels on the validation set using the best estimator from RandomizedSearchCV\n",
        "    val_predictions = random_search.best_estimator_.predict(X_val)\n",
        "\n",
        "    # Print out the classification report for the validation set\n",
        "    print(f\"Validation Set Classification Report for {vectorizer.__class__.__name__}:\")\n",
        "    print(classification_report(y_val, val_predictions))\n",
        "\n",
        "    # Compute and plot the confusion matrix for the validation set\n",
        "    cm = confusion_matrix(y_val, val_predictions, labels=['propaganda', 'not_propaganda'])\n",
        "    disp = ConfusionMatrixDisplay(confusion_matrix=cm, display_labels=['propaganda', 'not_propaganda'])\n",
        "    disp.plot(cmap=plt.cm.Blues)\n",
        "    plt.title(f\"Confusion Matrix for {vectorizer.__class__.__name__}\")\n",
        "    plt.show()\n",
        "\n",
        "    return random_search.best_estimator_"
      ]
    },
    {
      "cell_type": "code",
      "execution_count": null,
      "metadata": {
        "colab": {
          "base_uri": "https://localhost:8080/",
          "height": 718
        },
        "id": "ywr_z7RN0Ssn",
        "outputId": "ecd1828d-d057-4f9d-d93f-c9aea442611e"
      },
      "outputs": [
        {
          "output_type": "stream",
          "name": "stdout",
          "text": [
            "Best Hyperparameters for TfidfVectorizer: {'vectorizer__ngram_range': (1, 1), 'vectorizer__max_features': 10000, 'classifier__alpha': 1.0}\n",
            "Cross-Validation Scores for TfidfVectorizer: [0.61904762 0.6252588  0.5942029  0.64182195 0.63278008]\n",
            "Mean CV Accuracy for TfidfVectorizer: 0.622622269185502\n",
            "Validation Set Classification Report for TfidfVectorizer:\n",
            "                precision    recall  f1-score   support\n",
            "\n",
            "not_propaganda       0.62      0.61      0.61       241\n",
            "    propaganda       0.62      0.63      0.62       242\n",
            "\n",
            "      accuracy                           0.62       483\n",
            "     macro avg       0.62      0.62      0.62       483\n",
            "  weighted avg       0.62      0.62      0.62       483\n",
            "\n"
          ]
        },
        {
          "output_type": "display_data",
          "data": {
            "text/plain": [
              "<Figure size 640x480 with 2 Axes>"
            ],
            "image/png": "[encoded data removed]"
          },
          "metadata": {}
        }
      ],
      "source": [
        "# Evaluate using TfidfVectorizer (TF-IDF)\n",
        "best_tfidf_model = evaluate_model(TfidfVectorizer())"
      ]
    },
    {
      "cell_type": "code",
      "execution_count": null,
      "metadata": {
        "id": "MFrIMfTL0SoM"
      },
      "outputs": [],
      "source": [
        "# Use the best model (either best_bow_model or best_tfidf_model) to predict on the test set\n",
        "test_predictions = best_tfidf_model.predict(test_data['cleaned_sentence'])"
      ]
    },
    {
      "cell_type": "code",
      "execution_count": null,
      "metadata": {
        "colab": {
          "base_uri": "https://localhost:8080/"
        },
        "id": "MQn6U-Fl0csi",
        "outputId": "9e9c3076-ef56-49a0-c457-dd07bc8973c3"
      },
      "outputs": [
        {
          "output_type": "stream",
          "name": "stdout",
          "text": [
            "Test Set Classification Report:\n",
            "                precision    recall  f1-score   support\n",
            "\n",
            "not_propaganda       0.68      0.63      0.65       301\n",
            "    propaganda       0.63      0.67      0.65       279\n",
            "\n",
            "      accuracy                           0.65       580\n",
            "     macro avg       0.65      0.65      0.65       580\n",
            "  weighted avg       0.65      0.65      0.65       580\n",
            "\n"
          ]
        }
      ],
      "source": [
        "# Print out the classification report for the test set\n",
        "print(\"Test Set Classification Report:\")\n",
        "print(classification_report(test_data['binary_label'], test_predictions))"
      ]
    },
    {
      "cell_type": "code",
      "source": [
        "# Compute and plot the confusion matrix for the test set\n",
        "cm = confusion_matrix(test_data['binary_label'], test_predictions, labels=['propaganda', 'not_propaganda'])\n",
        "disp = ConfusionMatrixDisplay(confusion_matrix=cm, display_labels=['propaganda', 'not_propaganda'])\n",
        "disp.plot(cmap=plt.cm.Blues)\n",
        "plt.title(\"Confusion Matrix for Test Set\")\n",
        "plt.show()"
      ],
      "metadata": {
        "colab": {
          "base_uri": "https://localhost:8080/",
          "height": 472
        },
        "id": "iKWyROjS9_xI",
        "outputId": "45081d2d-a1df-4879-de7a-17e7c32fa77a"
      },
      "execution_count": null,
      "outputs": [
        {
          "output_type": "display_data",
          "data": {
            "text/plain": [
              "<Figure size 640x480 with 2 Axes>"
            ],
            "image/png": "[encoded data removed]"
          },
          "metadata": {}
        }
      ]
    }
  ],
  "metadata": {
    "colab": {
      "provenance": [],
      "gpuType": "T4"
    },
    "kernelspec": {
      "display_name": "Python 3",
      "name": "python3"
    },
    "language_info": {
      "name": "python"
    },
    "accelerator": "GPU"
  },
  "nbformat": 4,
  "nbformat_minor": 0
}